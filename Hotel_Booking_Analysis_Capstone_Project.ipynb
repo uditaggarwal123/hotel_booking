{
  "nbformat": 4,
  "nbformat_minor": 0,
  "metadata": {
    "kernelspec": {
      "display_name": "Python 3",
      "language": "python",
      "name": "python3"
    },
    "language_info": {
      "codemirror_mode": {
        "name": "ipython",
        "version": 3
      },
      "file_extension": ".py",
      "mimetype": "text/x-python",
      "name": "python",
      "nbconvert_exporter": "python",
      "pygments_lexer": "ipython3",
      "version": "3.6.6"
    },
    "colab": {
      "name": "Hotel Booking Analysis - Capstone Project.ipynb",
      "provenance": [],
      "collapsed_sections": [],
      "include_colab_link": true
    }
  },
  "cells": [
    {
      "cell_type": "markdown",
      "metadata": {
        "id": "view-in-github",
        "colab_type": "text"
      },
      "source": [
        "<a href=\"https://colab.research.google.com/github/uditaggarwal123/hotel_booking/blob/main/Hotel_Booking_Analysis_Capstone_Project.ipynb\" target=\"_parent\"><img src=\"https://colab.research.google.com/assets/colab-badge.svg\" alt=\"Open In Colab\"/></a>"
      ]
    },
    {
      "cell_type": "markdown",
      "metadata": {
        "id": "Y06xIdG26kRF"
      },
      "source": [
        "## <b> Have you ever wondered when the best time of year to book a hotel room is? Or the optimal length of stay in order to get the best daily rate? What if you wanted to predict whether or not a hotel was likely to receive a disproportionately high number of special requests? This hotel booking dataset can help you explore those questions!\n",
        "\n",
        "## <b>This data set contains booking information for a city hotel and a resort hotel, and includes information such as when the booking was made, length of stay, the number of adults, children, and/or babies, and the number of available parking spaces, among other things. All personally identifying information has been removed from the data. </b>\n",
        "\n",
        "## <b> Explore and analyze the data to discover important factors that govern the bookings. </b>"
      ]
    },
    {
      "cell_type": "markdown",
      "source": [
        "![keyboard-837310_640.webp](data:image/webp;base64,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)"
      ],
      "metadata": {
        "id": "rXyxrt-Mt7Oa"
      }
    },
    {
      "cell_type": "markdown",
      "source": [
        "# **Introduction**"
      ],
      "metadata": {
        "id": "ESd3L_BeuEXh"
      }
    },
    {
      "cell_type": "markdown",
      "source": [
        "When we hear about hotel booking we definitely hear about websites like Trivago. It's because of their large scale advertisements that we cannot get them out of our head anytime soon. So, Trivago is what me and my friends lok for whenever we plan a vacation. The points we used to consider while booking a hotel include distance of hotel from main tourist places, cleanliness of rooms and if they have balcony alongside, hotel infrastructure and ofcourse, the price per night. In this dataset, we get to know different types of bookings (i.e type of hotel, arrival date, number of guests, duration of stay etc.)"
      ],
      "metadata": {
        "id": "1POjGcjxuICB"
      }
    },
    {
      "cell_type": "markdown",
      "source": [
        "# Importing required packages for data manipulation, clean and visualisation"
      ],
      "metadata": {
        "id": "qx7P8UmD4TQr"
      }
    },
    {
      "cell_type": "code",
      "metadata": {
        "id": "dByMsuzT8Tnw"
      },
      "source": [
        "#Importing required packages\n",
        "import pandas as pd\n",
        "import matplotlib.pyplot as plt\n",
        "import seaborn as sns\n",
        "import numpy as np"
      ],
      "execution_count": null,
      "outputs": []
    },
    {
      "cell_type": "code",
      "source": [
        "from google.colab import drive\n",
        "drive.mount('/content/drive')"
      ],
      "metadata": {
        "colab": {
          "base_uri": "https://localhost:8080/"
        },
        "id": "WdxPgmpvz4MX",
        "outputId": "8cee0b10-ede7-4d98-d889-50d54db064db"
      },
      "execution_count": null,
      "outputs": [
        {
          "output_type": "stream",
          "name": "stdout",
          "text": [
            "Drive already mounted at /content/drive; to attempt to forcibly remount, call drive.mount(\"/content/drive\", force_remount=True).\n"
          ]
        }
      ]
    },
    {
      "cell_type": "code",
      "source": [
        "file_path = '/content/drive/MyDrive/AlmaBetter/Capstone Project/project 1/Hotel Bookings.csv'\n",
        "df = pd.read_csv(file_path)"
      ],
      "metadata": {
        "id": "rmaxVrPR0IcW"
      },
      "execution_count": null,
      "outputs": []
    },
    {
      "cell_type": "code",
      "source": [
        "df.shape"
      ],
      "metadata": {
        "colab": {
          "base_uri": "https://localhost:8080/"
        },
        "id": "8GQ1PBga4B7w",
        "outputId": "faac4030-6e16-4153-bb78-8e5705efa452"
      },
      "execution_count": null,
      "outputs": [
        {
          "output_type": "execute_result",
          "data": {
            "text/plain": [
              "(119390, 32)"
            ]
          },
          "metadata": {},
          "execution_count": 8
        }
      ]
    },
    {
      "cell_type": "markdown",
      "source": [
        "Looks like we have a huge data to work upon."
      ],
      "metadata": {
        "id": "YkrezFtJ4tg8"
      }
    },
    {
      "cell_type": "markdown",
      "source": [
        "Let's look through various columns to understand them better."
      ],
      "metadata": {
        "id": "tfYkN8We1QMR"
      }
    },
    {
      "cell_type": "code",
      "source": [
        "df.columns"
      ],
      "metadata": {
        "colab": {
          "base_uri": "https://localhost:8080/"
        },
        "id": "leQNPp8R0eie",
        "outputId": "019a2518-9479-4ae9-ed4c-f31743e9613b"
      },
      "execution_count": null,
      "outputs": [
        {
          "output_type": "execute_result",
          "data": {
            "text/plain": [
              "Index(['hotel', 'is_canceled', 'lead_time', 'arrival_date_year',\n",
              "       'arrival_date_month', 'arrival_date_week_number',\n",
              "       'arrival_date_day_of_month', 'stays_in_weekend_nights',\n",
              "       'stays_in_week_nights', 'adults', 'children', 'babies', 'meal',\n",
              "       'country', 'market_segment', 'distribution_channel',\n",
              "       'is_repeated_guest', 'previous_cancellations',\n",
              "       'previous_bookings_not_canceled', 'reserved_room_type',\n",
              "       'assigned_room_type', 'booking_changes', 'deposit_type', 'agent',\n",
              "       'company', 'days_in_waiting_list', 'customer_type', 'adr',\n",
              "       'required_car_parking_spaces', 'total_of_special_requests',\n",
              "       'reservation_status', 'reservation_status_date'],\n",
              "      dtype='object')"
            ]
          },
          "metadata": {},
          "execution_count": 9
        }
      ]
    },
    {
      "cell_type": "code",
      "source": [
        "df.head(10).T"
      ],
      "metadata": {
        "colab": {
          "base_uri": "https://localhost:8080/",
          "height": 1000
        },
        "id": "GcNUYZQq0i_L",
        "outputId": "0a71cde0-ffd2-40fd-d00d-6a8469ae99a1"
      },
      "execution_count": null,
      "outputs": [
        {
          "output_type": "execute_result",
          "data": {
            "text/plain": [
              "                                           0             1             2  \\\n",
              "hotel                           Resort Hotel  Resort Hotel  Resort Hotel   \n",
              "is_canceled                                0             0             0   \n",
              "lead_time                                342           737             7   \n",
              "arrival_date_year                       2015          2015          2015   \n",
              "arrival_date_month                      July          July          July   \n",
              "arrival_date_week_number                  27            27            27   \n",
              "arrival_date_day_of_month                  1             1             1   \n",
              "stays_in_weekend_nights                    0             0             0   \n",
              "stays_in_week_nights                       0             0             1   \n",
              "adults                                     2             2             1   \n",
              "children                                 0.0           0.0           0.0   \n",
              "babies                                     0             0             0   \n",
              "meal                                      BB            BB            BB   \n",
              "country                                  PRT           PRT           GBR   \n",
              "market_segment                        Direct        Direct        Direct   \n",
              "distribution_channel                  Direct        Direct        Direct   \n",
              "is_repeated_guest                          0             0             0   \n",
              "previous_cancellations                     0             0             0   \n",
              "previous_bookings_not_canceled             0             0             0   \n",
              "reserved_room_type                         C             C             A   \n",
              "assigned_room_type                         C             C             C   \n",
              "booking_changes                            3             4             0   \n",
              "deposit_type                      No Deposit    No Deposit    No Deposit   \n",
              "agent                                    NaN           NaN           NaN   \n",
              "company                                  NaN           NaN           NaN   \n",
              "days_in_waiting_list                       0             0             0   \n",
              "customer_type                      Transient     Transient     Transient   \n",
              "adr                                      0.0           0.0          75.0   \n",
              "required_car_parking_spaces                0             0             0   \n",
              "total_of_special_requests                  0             0             0   \n",
              "reservation_status                 Check-Out     Check-Out     Check-Out   \n",
              "reservation_status_date           2015-07-01    2015-07-01    2015-07-02   \n",
              "\n",
              "                                           3             4             5  \\\n",
              "hotel                           Resort Hotel  Resort Hotel  Resort Hotel   \n",
              "is_canceled                                0             0             0   \n",
              "lead_time                                 13            14            14   \n",
              "arrival_date_year                       2015          2015          2015   \n",
              "arrival_date_month                      July          July          July   \n",
              "arrival_date_week_number                  27            27            27   \n",
              "arrival_date_day_of_month                  1             1             1   \n",
              "stays_in_weekend_nights                    0             0             0   \n",
              "stays_in_week_nights                       1             2             2   \n",
              "adults                                     1             2             2   \n",
              "children                                 0.0           0.0           0.0   \n",
              "babies                                     0             0             0   \n",
              "meal                                      BB            BB            BB   \n",
              "country                                  GBR           GBR           GBR   \n",
              "market_segment                     Corporate     Online TA     Online TA   \n",
              "distribution_channel               Corporate         TA/TO         TA/TO   \n",
              "is_repeated_guest                          0             0             0   \n",
              "previous_cancellations                     0             0             0   \n",
              "previous_bookings_not_canceled             0             0             0   \n",
              "reserved_room_type                         A             A             A   \n",
              "assigned_room_type                         A             A             A   \n",
              "booking_changes                            0             0             0   \n",
              "deposit_type                      No Deposit    No Deposit    No Deposit   \n",
              "agent                                  304.0         240.0         240.0   \n",
              "company                                  NaN           NaN           NaN   \n",
              "days_in_waiting_list                       0             0             0   \n",
              "customer_type                      Transient     Transient     Transient   \n",
              "adr                                     75.0          98.0          98.0   \n",
              "required_car_parking_spaces                0             0             0   \n",
              "total_of_special_requests                  0             1             1   \n",
              "reservation_status                 Check-Out     Check-Out     Check-Out   \n",
              "reservation_status_date           2015-07-02    2015-07-03    2015-07-03   \n",
              "\n",
              "                                           6             7             8  \\\n",
              "hotel                           Resort Hotel  Resort Hotel  Resort Hotel   \n",
              "is_canceled                                0             0             1   \n",
              "lead_time                                  0             9            85   \n",
              "arrival_date_year                       2015          2015          2015   \n",
              "arrival_date_month                      July          July          July   \n",
              "arrival_date_week_number                  27            27            27   \n",
              "arrival_date_day_of_month                  1             1             1   \n",
              "stays_in_weekend_nights                    0             0             0   \n",
              "stays_in_week_nights                       2             2             3   \n",
              "adults                                     2             2             2   \n",
              "children                                 0.0           0.0           0.0   \n",
              "babies                                     0             0             0   \n",
              "meal                                      BB            FB            BB   \n",
              "country                                  PRT           PRT           PRT   \n",
              "market_segment                        Direct        Direct     Online TA   \n",
              "distribution_channel                  Direct        Direct         TA/TO   \n",
              "is_repeated_guest                          0             0             0   \n",
              "previous_cancellations                     0             0             0   \n",
              "previous_bookings_not_canceled             0             0             0   \n",
              "reserved_room_type                         C             C             A   \n",
              "assigned_room_type                         C             C             A   \n",
              "booking_changes                            0             0             0   \n",
              "deposit_type                      No Deposit    No Deposit    No Deposit   \n",
              "agent                                    NaN         303.0         240.0   \n",
              "company                                  NaN           NaN           NaN   \n",
              "days_in_waiting_list                       0             0             0   \n",
              "customer_type                      Transient     Transient     Transient   \n",
              "adr                                    107.0         103.0          82.0   \n",
              "required_car_parking_spaces                0             0             0   \n",
              "total_of_special_requests                  0             1             1   \n",
              "reservation_status                 Check-Out     Check-Out      Canceled   \n",
              "reservation_status_date           2015-07-03    2015-07-03    2015-05-06   \n",
              "\n",
              "                                            9  \n",
              "hotel                            Resort Hotel  \n",
              "is_canceled                                 1  \n",
              "lead_time                                  75  \n",
              "arrival_date_year                        2015  \n",
              "arrival_date_month                       July  \n",
              "arrival_date_week_number                   27  \n",
              "arrival_date_day_of_month                   1  \n",
              "stays_in_weekend_nights                     0  \n",
              "stays_in_week_nights                        3  \n",
              "adults                                      2  \n",
              "children                                  0.0  \n",
              "babies                                      0  \n",
              "meal                                       HB  \n",
              "country                                   PRT  \n",
              "market_segment                  Offline TA/TO  \n",
              "distribution_channel                    TA/TO  \n",
              "is_repeated_guest                           0  \n",
              "previous_cancellations                      0  \n",
              "previous_bookings_not_canceled              0  \n",
              "reserved_room_type                          D  \n",
              "assigned_room_type                          D  \n",
              "booking_changes                             0  \n",
              "deposit_type                       No Deposit  \n",
              "agent                                    15.0  \n",
              "company                                   NaN  \n",
              "days_in_waiting_list                        0  \n",
              "customer_type                       Transient  \n",
              "adr                                     105.5  \n",
              "required_car_parking_spaces                 0  \n",
              "total_of_special_requests                   0  \n",
              "reservation_status                   Canceled  \n",
              "reservation_status_date            2015-04-22  "
            ],
            "text/html": [
              "\n",
              "  <div id=\"df-984eef92-3f72-4510-b839-e1c386e69dbb\">\n",
              "    <div class=\"colab-df-container\">\n",
              "      <div>\n",
              "<style scoped>\n",
              "    .dataframe tbody tr th:only-of-type {\n",
              "        vertical-align: middle;\n",
              "    }\n",
              "\n",
              "    .dataframe tbody tr th {\n",
              "        vertical-align: top;\n",
              "    }\n",
              "\n",
              "    .dataframe thead th {\n",
              "        text-align: right;\n",
              "    }\n",
              "</style>\n",
              "<table border=\"1\" class=\"dataframe\">\n",
              "  <thead>\n",
              "    <tr style=\"text-align: right;\">\n",
              "      <th></th>\n",
              "      <th>0</th>\n",
              "      <th>1</th>\n",
              "      <th>2</th>\n",
              "      <th>3</th>\n",
              "      <th>4</th>\n",
              "      <th>5</th>\n",
              "      <th>6</th>\n",
              "      <th>7</th>\n",
              "      <th>8</th>\n",
              "      <th>9</th>\n",
              "    </tr>\n",
              "  </thead>\n",
              "  <tbody>\n",
              "    <tr>\n",
              "      <th>hotel</th>\n",
              "      <td>Resort Hotel</td>\n",
              "      <td>Resort Hotel</td>\n",
              "      <td>Resort Hotel</td>\n",
              "      <td>Resort Hotel</td>\n",
              "      <td>Resort Hotel</td>\n",
              "      <td>Resort Hotel</td>\n",
              "      <td>Resort Hotel</td>\n",
              "      <td>Resort Hotel</td>\n",
              "      <td>Resort Hotel</td>\n",
              "      <td>Resort Hotel</td>\n",
              "    </tr>\n",
              "    <tr>\n",
              "      <th>is_canceled</th>\n",
              "      <td>0</td>\n",
              "      <td>0</td>\n",
              "      <td>0</td>\n",
              "      <td>0</td>\n",
              "      <td>0</td>\n",
              "      <td>0</td>\n",
              "      <td>0</td>\n",
              "      <td>0</td>\n",
              "      <td>1</td>\n",
              "      <td>1</td>\n",
              "    </tr>\n",
              "    <tr>\n",
              "      <th>lead_time</th>\n",
              "      <td>342</td>\n",
              "      <td>737</td>\n",
              "      <td>7</td>\n",
              "      <td>13</td>\n",
              "      <td>14</td>\n",
              "      <td>14</td>\n",
              "      <td>0</td>\n",
              "      <td>9</td>\n",
              "      <td>85</td>\n",
              "      <td>75</td>\n",
              "    </tr>\n",
              "    <tr>\n",
              "      <th>arrival_date_year</th>\n",
              "      <td>2015</td>\n",
              "      <td>2015</td>\n",
              "      <td>2015</td>\n",
              "      <td>2015</td>\n",
              "      <td>2015</td>\n",
              "      <td>2015</td>\n",
              "      <td>2015</td>\n",
              "      <td>2015</td>\n",
              "      <td>2015</td>\n",
              "      <td>2015</td>\n",
              "    </tr>\n",
              "    <tr>\n",
              "      <th>arrival_date_month</th>\n",
              "      <td>July</td>\n",
              "      <td>July</td>\n",
              "      <td>July</td>\n",
              "      <td>July</td>\n",
              "      <td>July</td>\n",
              "      <td>July</td>\n",
              "      <td>July</td>\n",
              "      <td>July</td>\n",
              "      <td>July</td>\n",
              "      <td>July</td>\n",
              "    </tr>\n",
              "    <tr>\n",
              "      <th>arrival_date_week_number</th>\n",
              "      <td>27</td>\n",
              "      <td>27</td>\n",
              "      <td>27</td>\n",
              "      <td>27</td>\n",
              "      <td>27</td>\n",
              "      <td>27</td>\n",
              "      <td>27</td>\n",
              "      <td>27</td>\n",
              "      <td>27</td>\n",
              "      <td>27</td>\n",
              "    </tr>\n",
              "    <tr>\n",
              "      <th>arrival_date_day_of_month</th>\n",
              "      <td>1</td>\n",
              "      <td>1</td>\n",
              "      <td>1</td>\n",
              "      <td>1</td>\n",
              "      <td>1</td>\n",
              "      <td>1</td>\n",
              "      <td>1</td>\n",
              "      <td>1</td>\n",
              "      <td>1</td>\n",
              "      <td>1</td>\n",
              "    </tr>\n",
              "    <tr>\n",
              "      <th>stays_in_weekend_nights</th>\n",
              "      <td>0</td>\n",
              "      <td>0</td>\n",
              "      <td>0</td>\n",
              "      <td>0</td>\n",
              "      <td>0</td>\n",
              "      <td>0</td>\n",
              "      <td>0</td>\n",
              "      <td>0</td>\n",
              "      <td>0</td>\n",
              "      <td>0</td>\n",
              "    </tr>\n",
              "    <tr>\n",
              "      <th>stays_in_week_nights</th>\n",
              "      <td>0</td>\n",
              "      <td>0</td>\n",
              "      <td>1</td>\n",
              "      <td>1</td>\n",
              "      <td>2</td>\n",
              "      <td>2</td>\n",
              "      <td>2</td>\n",
              "      <td>2</td>\n",
              "      <td>3</td>\n",
              "      <td>3</td>\n",
              "    </tr>\n",
              "    <tr>\n",
              "      <th>adults</th>\n",
              "      <td>2</td>\n",
              "      <td>2</td>\n",
              "      <td>1</td>\n",
              "      <td>1</td>\n",
              "      <td>2</td>\n",
              "      <td>2</td>\n",
              "      <td>2</td>\n",
              "      <td>2</td>\n",
              "      <td>2</td>\n",
              "      <td>2</td>\n",
              "    </tr>\n",
              "    <tr>\n",
              "      <th>children</th>\n",
              "      <td>0.0</td>\n",
              "      <td>0.0</td>\n",
              "      <td>0.0</td>\n",
              "      <td>0.0</td>\n",
              "      <td>0.0</td>\n",
              "      <td>0.0</td>\n",
              "      <td>0.0</td>\n",
              "      <td>0.0</td>\n",
              "      <td>0.0</td>\n",
              "      <td>0.0</td>\n",
              "    </tr>\n",
              "    <tr>\n",
              "      <th>babies</th>\n",
              "      <td>0</td>\n",
              "      <td>0</td>\n",
              "      <td>0</td>\n",
              "      <td>0</td>\n",
              "      <td>0</td>\n",
              "      <td>0</td>\n",
              "      <td>0</td>\n",
              "      <td>0</td>\n",
              "      <td>0</td>\n",
              "      <td>0</td>\n",
              "    </tr>\n",
              "    <tr>\n",
              "      <th>meal</th>\n",
              "      <td>BB</td>\n",
              "      <td>BB</td>\n",
              "      <td>BB</td>\n",
              "      <td>BB</td>\n",
              "      <td>BB</td>\n",
              "      <td>BB</td>\n",
              "      <td>BB</td>\n",
              "      <td>FB</td>\n",
              "      <td>BB</td>\n",
              "      <td>HB</td>\n",
              "    </tr>\n",
              "    <tr>\n",
              "      <th>country</th>\n",
              "      <td>PRT</td>\n",
              "      <td>PRT</td>\n",
              "      <td>GBR</td>\n",
              "      <td>GBR</td>\n",
              "      <td>GBR</td>\n",
              "      <td>GBR</td>\n",
              "      <td>PRT</td>\n",
              "      <td>PRT</td>\n",
              "      <td>PRT</td>\n",
              "      <td>PRT</td>\n",
              "    </tr>\n",
              "    <tr>\n",
              "      <th>market_segment</th>\n",
              "      <td>Direct</td>\n",
              "      <td>Direct</td>\n",
              "      <td>Direct</td>\n",
              "      <td>Corporate</td>\n",
              "      <td>Online TA</td>\n",
              "      <td>Online TA</td>\n",
              "      <td>Direct</td>\n",
              "      <td>Direct</td>\n",
              "      <td>Online TA</td>\n",
              "      <td>Offline TA/TO</td>\n",
              "    </tr>\n",
              "    <tr>\n",
              "      <th>distribution_channel</th>\n",
              "      <td>Direct</td>\n",
              "      <td>Direct</td>\n",
              "      <td>Direct</td>\n",
              "      <td>Corporate</td>\n",
              "      <td>TA/TO</td>\n",
              "      <td>TA/TO</td>\n",
              "      <td>Direct</td>\n",
              "      <td>Direct</td>\n",
              "      <td>TA/TO</td>\n",
              "      <td>TA/TO</td>\n",
              "    </tr>\n",
              "    <tr>\n",
              "      <th>is_repeated_guest</th>\n",
              "      <td>0</td>\n",
              "      <td>0</td>\n",
              "      <td>0</td>\n",
              "      <td>0</td>\n",
              "      <td>0</td>\n",
              "      <td>0</td>\n",
              "      <td>0</td>\n",
              "      <td>0</td>\n",
              "      <td>0</td>\n",
              "      <td>0</td>\n",
              "    </tr>\n",
              "    <tr>\n",
              "      <th>previous_cancellations</th>\n",
              "      <td>0</td>\n",
              "      <td>0</td>\n",
              "      <td>0</td>\n",
              "      <td>0</td>\n",
              "      <td>0</td>\n",
              "      <td>0</td>\n",
              "      <td>0</td>\n",
              "      <td>0</td>\n",
              "      <td>0</td>\n",
              "      <td>0</td>\n",
              "    </tr>\n",
              "    <tr>\n",
              "      <th>previous_bookings_not_canceled</th>\n",
              "      <td>0</td>\n",
              "      <td>0</td>\n",
              "      <td>0</td>\n",
              "      <td>0</td>\n",
              "      <td>0</td>\n",
              "      <td>0</td>\n",
              "      <td>0</td>\n",
              "      <td>0</td>\n",
              "      <td>0</td>\n",
              "      <td>0</td>\n",
              "    </tr>\n",
              "    <tr>\n",
              "      <th>reserved_room_type</th>\n",
              "      <td>C</td>\n",
              "      <td>C</td>\n",
              "      <td>A</td>\n",
              "      <td>A</td>\n",
              "      <td>A</td>\n",
              "      <td>A</td>\n",
              "      <td>C</td>\n",
              "      <td>C</td>\n",
              "      <td>A</td>\n",
              "      <td>D</td>\n",
              "    </tr>\n",
              "    <tr>\n",
              "      <th>assigned_room_type</th>\n",
              "      <td>C</td>\n",
              "      <td>C</td>\n",
              "      <td>C</td>\n",
              "      <td>A</td>\n",
              "      <td>A</td>\n",
              "      <td>A</td>\n",
              "      <td>C</td>\n",
              "      <td>C</td>\n",
              "      <td>A</td>\n",
              "      <td>D</td>\n",
              "    </tr>\n",
              "    <tr>\n",
              "      <th>booking_changes</th>\n",
              "      <td>3</td>\n",
              "      <td>4</td>\n",
              "      <td>0</td>\n",
              "      <td>0</td>\n",
              "      <td>0</td>\n",
              "      <td>0</td>\n",
              "      <td>0</td>\n",
              "      <td>0</td>\n",
              "      <td>0</td>\n",
              "      <td>0</td>\n",
              "    </tr>\n",
              "    <tr>\n",
              "      <th>deposit_type</th>\n",
              "      <td>No Deposit</td>\n",
              "      <td>No Deposit</td>\n",
              "      <td>No Deposit</td>\n",
              "      <td>No Deposit</td>\n",
              "      <td>No Deposit</td>\n",
              "      <td>No Deposit</td>\n",
              "      <td>No Deposit</td>\n",
              "      <td>No Deposit</td>\n",
              "      <td>No Deposit</td>\n",
              "      <td>No Deposit</td>\n",
              "    </tr>\n",
              "    <tr>\n",
              "      <th>agent</th>\n",
              "      <td>NaN</td>\n",
              "      <td>NaN</td>\n",
              "      <td>NaN</td>\n",
              "      <td>304.0</td>\n",
              "      <td>240.0</td>\n",
              "      <td>240.0</td>\n",
              "      <td>NaN</td>\n",
              "      <td>303.0</td>\n",
              "      <td>240.0</td>\n",
              "      <td>15.0</td>\n",
              "    </tr>\n",
              "    <tr>\n",
              "      <th>company</th>\n",
              "      <td>NaN</td>\n",
              "      <td>NaN</td>\n",
              "      <td>NaN</td>\n",
              "      <td>NaN</td>\n",
              "      <td>NaN</td>\n",
              "      <td>NaN</td>\n",
              "      <td>NaN</td>\n",
              "      <td>NaN</td>\n",
              "      <td>NaN</td>\n",
              "      <td>NaN</td>\n",
              "    </tr>\n",
              "    <tr>\n",
              "      <th>days_in_waiting_list</th>\n",
              "      <td>0</td>\n",
              "      <td>0</td>\n",
              "      <td>0</td>\n",
              "      <td>0</td>\n",
              "      <td>0</td>\n",
              "      <td>0</td>\n",
              "      <td>0</td>\n",
              "      <td>0</td>\n",
              "      <td>0</td>\n",
              "      <td>0</td>\n",
              "    </tr>\n",
              "    <tr>\n",
              "      <th>customer_type</th>\n",
              "      <td>Transient</td>\n",
              "      <td>Transient</td>\n",
              "      <td>Transient</td>\n",
              "      <td>Transient</td>\n",
              "      <td>Transient</td>\n",
              "      <td>Transient</td>\n",
              "      <td>Transient</td>\n",
              "      <td>Transient</td>\n",
              "      <td>Transient</td>\n",
              "      <td>Transient</td>\n",
              "    </tr>\n",
              "    <tr>\n",
              "      <th>adr</th>\n",
              "      <td>0.0</td>\n",
              "      <td>0.0</td>\n",
              "      <td>75.0</td>\n",
              "      <td>75.0</td>\n",
              "      <td>98.0</td>\n",
              "      <td>98.0</td>\n",
              "      <td>107.0</td>\n",
              "      <td>103.0</td>\n",
              "      <td>82.0</td>\n",
              "      <td>105.5</td>\n",
              "    </tr>\n",
              "    <tr>\n",
              "      <th>required_car_parking_spaces</th>\n",
              "      <td>0</td>\n",
              "      <td>0</td>\n",
              "      <td>0</td>\n",
              "      <td>0</td>\n",
              "      <td>0</td>\n",
              "      <td>0</td>\n",
              "      <td>0</td>\n",
              "      <td>0</td>\n",
              "      <td>0</td>\n",
              "      <td>0</td>\n",
              "    </tr>\n",
              "    <tr>\n",
              "      <th>total_of_special_requests</th>\n",
              "      <td>0</td>\n",
              "      <td>0</td>\n",
              "      <td>0</td>\n",
              "      <td>0</td>\n",
              "      <td>1</td>\n",
              "      <td>1</td>\n",
              "      <td>0</td>\n",
              "      <td>1</td>\n",
              "      <td>1</td>\n",
              "      <td>0</td>\n",
              "    </tr>\n",
              "    <tr>\n",
              "      <th>reservation_status</th>\n",
              "      <td>Check-Out</td>\n",
              "      <td>Check-Out</td>\n",
              "      <td>Check-Out</td>\n",
              "      <td>Check-Out</td>\n",
              "      <td>Check-Out</td>\n",
              "      <td>Check-Out</td>\n",
              "      <td>Check-Out</td>\n",
              "      <td>Check-Out</td>\n",
              "      <td>Canceled</td>\n",
              "      <td>Canceled</td>\n",
              "    </tr>\n",
              "    <tr>\n",
              "      <th>reservation_status_date</th>\n",
              "      <td>2015-07-01</td>\n",
              "      <td>2015-07-01</td>\n",
              "      <td>2015-07-02</td>\n",
              "      <td>2015-07-02</td>\n",
              "      <td>2015-07-03</td>\n",
              "      <td>2015-07-03</td>\n",
              "      <td>2015-07-03</td>\n",
              "      <td>2015-07-03</td>\n",
              "      <td>2015-05-06</td>\n",
              "      <td>2015-04-22</td>\n",
              "    </tr>\n",
              "  </tbody>\n",
              "</table>\n",
              "</div>\n",
              "      <button class=\"colab-df-convert\" onclick=\"convertToInteractive('df-984eef92-3f72-4510-b839-e1c386e69dbb')\"\n",
              "              title=\"Convert this dataframe to an interactive table.\"\n",
              "              style=\"display:none;\">\n",
              "        \n",
              "  <svg xmlns=\"http://www.w3.org/2000/svg\" height=\"24px\"viewBox=\"0 0 24 24\"\n",
              "       width=\"24px\">\n",
              "    <path d=\"M0 0h24v24H0V0z\" fill=\"none\"/>\n",
              "    <path d=\"M18.56 5.44l.94 2.06.94-2.06 2.06-.94-2.06-.94-.94-2.06-.94 2.06-2.06.94zm-11 1L8.5 8.5l.94-2.06 2.06-.94-2.06-.94L8.5 2.5l-.94 2.06-2.06.94zm10 10l.94 2.06.94-2.06 2.06-.94-2.06-.94-.94-2.06-.94 2.06-2.06.94z\"/><path d=\"M17.41 7.96l-1.37-1.37c-.4-.4-.92-.59-1.43-.59-.52 0-1.04.2-1.43.59L10.3 9.45l-7.72 7.72c-.78.78-.78 2.05 0 2.83L4 21.41c.39.39.9.59 1.41.59.51 0 1.02-.2 1.41-.59l7.78-7.78 2.81-2.81c.8-.78.8-2.07 0-2.86zM5.41 20L4 18.59l7.72-7.72 1.47 1.35L5.41 20z\"/>\n",
              "  </svg>\n",
              "      </button>\n",
              "      \n",
              "  <style>\n",
              "    .colab-df-container {\n",
              "      display:flex;\n",
              "      flex-wrap:wrap;\n",
              "      gap: 12px;\n",
              "    }\n",
              "\n",
              "    .colab-df-convert {\n",
              "      background-color: #E8F0FE;\n",
              "      border: none;\n",
              "      border-radius: 50%;\n",
              "      cursor: pointer;\n",
              "      display: none;\n",
              "      fill: #1967D2;\n",
              "      height: 32px;\n",
              "      padding: 0 0 0 0;\n",
              "      width: 32px;\n",
              "    }\n",
              "\n",
              "    .colab-df-convert:hover {\n",
              "      background-color: #E2EBFA;\n",
              "      box-shadow: 0px 1px 2px rgba(60, 64, 67, 0.3), 0px 1px 3px 1px rgba(60, 64, 67, 0.15);\n",
              "      fill: #174EA6;\n",
              "    }\n",
              "\n",
              "    [theme=dark] .colab-df-convert {\n",
              "      background-color: #3B4455;\n",
              "      fill: #D2E3FC;\n",
              "    }\n",
              "\n",
              "    [theme=dark] .colab-df-convert:hover {\n",
              "      background-color: #434B5C;\n",
              "      box-shadow: 0px 1px 3px 1px rgba(0, 0, 0, 0.15);\n",
              "      filter: drop-shadow(0px 1px 2px rgba(0, 0, 0, 0.3));\n",
              "      fill: #FFFFFF;\n",
              "    }\n",
              "  </style>\n",
              "\n",
              "      <script>\n",
              "        const buttonEl =\n",
              "          document.querySelector('#df-984eef92-3f72-4510-b839-e1c386e69dbb button.colab-df-convert');\n",
              "        buttonEl.style.display =\n",
              "          google.colab.kernel.accessAllowed ? 'block' : 'none';\n",
              "\n",
              "        async function convertToInteractive(key) {\n",
              "          const element = document.querySelector('#df-984eef92-3f72-4510-b839-e1c386e69dbb');\n",
              "          const dataTable =\n",
              "            await google.colab.kernel.invokeFunction('convertToInteractive',\n",
              "                                                     [key], {});\n",
              "          if (!dataTable) return;\n",
              "\n",
              "          const docLinkHtml = 'Like what you see? Visit the ' +\n",
              "            '<a target=\"_blank\" href=https://colab.research.google.com/notebooks/data_table.ipynb>data table notebook</a>'\n",
              "            + ' to learn more about interactive tables.';\n",
              "          element.innerHTML = '';\n",
              "          dataTable['output_type'] = 'display_data';\n",
              "          await google.colab.output.renderOutput(dataTable, element);\n",
              "          const docLink = document.createElement('div');\n",
              "          docLink.innerHTML = docLinkHtml;\n",
              "          element.appendChild(docLink);\n",
              "        }\n",
              "      </script>\n",
              "    </div>\n",
              "  </div>\n",
              "  "
            ]
          },
          "metadata": {},
          "execution_count": 10
        }
      ]
    },
    {
      "cell_type": "code",
      "source": [
        "df.info()"
      ],
      "metadata": {
        "colab": {
          "base_uri": "https://localhost:8080/"
        },
        "id": "UjUiW5JO02e0",
        "outputId": "c8c3c173-0ecb-47b9-93ef-4c386d1eb7ec"
      },
      "execution_count": null,
      "outputs": [
        {
          "output_type": "stream",
          "name": "stdout",
          "text": [
            "<class 'pandas.core.frame.DataFrame'>\n",
            "RangeIndex: 119390 entries, 0 to 119389\n",
            "Data columns (total 32 columns):\n",
            " #   Column                          Non-Null Count   Dtype  \n",
            "---  ------                          --------------   -----  \n",
            " 0   hotel                           119390 non-null  object \n",
            " 1   is_canceled                     119390 non-null  int64  \n",
            " 2   lead_time                       119390 non-null  int64  \n",
            " 3   arrival_date_year               119390 non-null  int64  \n",
            " 4   arrival_date_month              119390 non-null  object \n",
            " 5   arrival_date_week_number        119390 non-null  int64  \n",
            " 6   arrival_date_day_of_month       119390 non-null  int64  \n",
            " 7   stays_in_weekend_nights         119390 non-null  int64  \n",
            " 8   stays_in_week_nights            119390 non-null  int64  \n",
            " 9   adults                          119390 non-null  int64  \n",
            " 10  children                        119386 non-null  float64\n",
            " 11  babies                          119390 non-null  int64  \n",
            " 12  meal                            119390 non-null  object \n",
            " 13  country                         118902 non-null  object \n",
            " 14  market_segment                  119390 non-null  object \n",
            " 15  distribution_channel            119390 non-null  object \n",
            " 16  is_repeated_guest               119390 non-null  int64  \n",
            " 17  previous_cancellations          119390 non-null  int64  \n",
            " 18  previous_bookings_not_canceled  119390 non-null  int64  \n",
            " 19  reserved_room_type              119390 non-null  object \n",
            " 20  assigned_room_type              119390 non-null  object \n",
            " 21  booking_changes                 119390 non-null  int64  \n",
            " 22  deposit_type                    119390 non-null  object \n",
            " 23  agent                           103050 non-null  float64\n",
            " 24  company                         6797 non-null    float64\n",
            " 25  days_in_waiting_list            119390 non-null  int64  \n",
            " 26  customer_type                   119390 non-null  object \n",
            " 27  adr                             119390 non-null  float64\n",
            " 28  required_car_parking_spaces     119390 non-null  int64  \n",
            " 29  total_of_special_requests       119390 non-null  int64  \n",
            " 30  reservation_status              119390 non-null  object \n",
            " 31  reservation_status_date         119390 non-null  object \n",
            "dtypes: float64(4), int64(16), object(12)\n",
            "memory usage: 29.1+ MB\n"
          ]
        }
      ]
    },
    {
      "cell_type": "markdown",
      "source": [
        "We observe that there are a total of 32 columns and few of these columns such as 'children', 'country', 'agent' and 'company' have null values."
      ],
      "metadata": {
        "id": "B7P3M5n12yFR"
      }
    },
    {
      "cell_type": "code",
      "source": [
        "df.describe()"
      ],
      "metadata": {
        "colab": {
          "base_uri": "https://localhost:8080/",
          "height": 364
        },
        "id": "YJkkHzTl1SgI",
        "outputId": "7919cbc9-95fe-4800-d255-d631238681af"
      },
      "execution_count": null,
      "outputs": [
        {
          "output_type": "execute_result",
          "data": {
            "text/plain": [
              "         is_canceled      lead_time  arrival_date_year  \\\n",
              "count  119390.000000  119390.000000      119390.000000   \n",
              "mean        0.370416     104.011416        2016.156554   \n",
              "std         0.482918     106.863097           0.707476   \n",
              "min         0.000000       0.000000        2015.000000   \n",
              "25%         0.000000      18.000000        2016.000000   \n",
              "50%         0.000000      69.000000        2016.000000   \n",
              "75%         1.000000     160.000000        2017.000000   \n",
              "max         1.000000     737.000000        2017.000000   \n",
              "\n",
              "       arrival_date_week_number  arrival_date_day_of_month  \\\n",
              "count             119390.000000              119390.000000   \n",
              "mean                  27.165173                  15.798241   \n",
              "std                   13.605138                   8.780829   \n",
              "min                    1.000000                   1.000000   \n",
              "25%                   16.000000                   8.000000   \n",
              "50%                   28.000000                  16.000000   \n",
              "75%                   38.000000                  23.000000   \n",
              "max                   53.000000                  31.000000   \n",
              "\n",
              "       stays_in_weekend_nights  stays_in_week_nights         adults  \\\n",
              "count            119390.000000         119390.000000  119390.000000   \n",
              "mean                  0.927599              2.500302       1.856403   \n",
              "std                   0.998613              1.908286       0.579261   \n",
              "min                   0.000000              0.000000       0.000000   \n",
              "25%                   0.000000              1.000000       2.000000   \n",
              "50%                   1.000000              2.000000       2.000000   \n",
              "75%                   2.000000              3.000000       2.000000   \n",
              "max                  19.000000             50.000000      55.000000   \n",
              "\n",
              "            children         babies  is_repeated_guest  \\\n",
              "count  119386.000000  119390.000000      119390.000000   \n",
              "mean        0.103890       0.007949           0.031912   \n",
              "std         0.398561       0.097436           0.175767   \n",
              "min         0.000000       0.000000           0.000000   \n",
              "25%         0.000000       0.000000           0.000000   \n",
              "50%         0.000000       0.000000           0.000000   \n",
              "75%         0.000000       0.000000           0.000000   \n",
              "max        10.000000      10.000000           1.000000   \n",
              "\n",
              "       previous_cancellations  previous_bookings_not_canceled  \\\n",
              "count           119390.000000                   119390.000000   \n",
              "mean                 0.087118                        0.137097   \n",
              "std                  0.844336                        1.497437   \n",
              "min                  0.000000                        0.000000   \n",
              "25%                  0.000000                        0.000000   \n",
              "50%                  0.000000                        0.000000   \n",
              "75%                  0.000000                        0.000000   \n",
              "max                 26.000000                       72.000000   \n",
              "\n",
              "       booking_changes          agent      company  days_in_waiting_list  \\\n",
              "count    119390.000000  103050.000000  6797.000000         119390.000000   \n",
              "mean          0.221124      86.693382   189.266735              2.321149   \n",
              "std           0.652306     110.774548   131.655015             17.594721   \n",
              "min           0.000000       1.000000     6.000000              0.000000   \n",
              "25%           0.000000       9.000000    62.000000              0.000000   \n",
              "50%           0.000000      14.000000   179.000000              0.000000   \n",
              "75%           0.000000     229.000000   270.000000              0.000000   \n",
              "max          21.000000     535.000000   543.000000            391.000000   \n",
              "\n",
              "                 adr  required_car_parking_spaces  total_of_special_requests  \n",
              "count  119390.000000                119390.000000              119390.000000  \n",
              "mean      101.831122                     0.062518                   0.571363  \n",
              "std        50.535790                     0.245291                   0.792798  \n",
              "min        -6.380000                     0.000000                   0.000000  \n",
              "25%        69.290000                     0.000000                   0.000000  \n",
              "50%        94.575000                     0.000000                   0.000000  \n",
              "75%       126.000000                     0.000000                   1.000000  \n",
              "max      5400.000000                     8.000000                   5.000000  "
            ],
            "text/html": [
              "\n",
              "  <div id=\"df-7ace1058-ce5c-4f68-a134-059c0f9ea184\">\n",
              "    <div class=\"colab-df-container\">\n",
              "      <div>\n",
              "<style scoped>\n",
              "    .dataframe tbody tr th:only-of-type {\n",
              "        vertical-align: middle;\n",
              "    }\n",
              "\n",
              "    .dataframe tbody tr th {\n",
              "        vertical-align: top;\n",
              "    }\n",
              "\n",
              "    .dataframe thead th {\n",
              "        text-align: right;\n",
              "    }\n",
              "</style>\n",
              "<table border=\"1\" class=\"dataframe\">\n",
              "  <thead>\n",
              "    <tr style=\"text-align: right;\">\n",
              "      <th></th>\n",
              "      <th>is_canceled</th>\n",
              "      <th>lead_time</th>\n",
              "      <th>arrival_date_year</th>\n",
              "      <th>arrival_date_week_number</th>\n",
              "      <th>arrival_date_day_of_month</th>\n",
              "      <th>stays_in_weekend_nights</th>\n",
              "      <th>stays_in_week_nights</th>\n",
              "      <th>adults</th>\n",
              "      <th>children</th>\n",
              "      <th>babies</th>\n",
              "      <th>is_repeated_guest</th>\n",
              "      <th>previous_cancellations</th>\n",
              "      <th>previous_bookings_not_canceled</th>\n",
              "      <th>booking_changes</th>\n",
              "      <th>agent</th>\n",
              "      <th>company</th>\n",
              "      <th>days_in_waiting_list</th>\n",
              "      <th>adr</th>\n",
              "      <th>required_car_parking_spaces</th>\n",
              "      <th>total_of_special_requests</th>\n",
              "    </tr>\n",
              "  </thead>\n",
              "  <tbody>\n",
              "    <tr>\n",
              "      <th>count</th>\n",
              "      <td>119390.000000</td>\n",
              "      <td>119390.000000</td>\n",
              "      <td>119390.000000</td>\n",
              "      <td>119390.000000</td>\n",
              "      <td>119390.000000</td>\n",
              "      <td>119390.000000</td>\n",
              "      <td>119390.000000</td>\n",
              "      <td>119390.000000</td>\n",
              "      <td>119386.000000</td>\n",
              "      <td>119390.000000</td>\n",
              "      <td>119390.000000</td>\n",
              "      <td>119390.000000</td>\n",
              "      <td>119390.000000</td>\n",
              "      <td>119390.000000</td>\n",
              "      <td>103050.000000</td>\n",
              "      <td>6797.000000</td>\n",
              "      <td>119390.000000</td>\n",
              "      <td>119390.000000</td>\n",
              "      <td>119390.000000</td>\n",
              "      <td>119390.000000</td>\n",
              "    </tr>\n",
              "    <tr>\n",
              "      <th>mean</th>\n",
              "      <td>0.370416</td>\n",
              "      <td>104.011416</td>\n",
              "      <td>2016.156554</td>\n",
              "      <td>27.165173</td>\n",
              "      <td>15.798241</td>\n",
              "      <td>0.927599</td>\n",
              "      <td>2.500302</td>\n",
              "      <td>1.856403</td>\n",
              "      <td>0.103890</td>\n",
              "      <td>0.007949</td>\n",
              "      <td>0.031912</td>\n",
              "      <td>0.087118</td>\n",
              "      <td>0.137097</td>\n",
              "      <td>0.221124</td>\n",
              "      <td>86.693382</td>\n",
              "      <td>189.266735</td>\n",
              "      <td>2.321149</td>\n",
              "      <td>101.831122</td>\n",
              "      <td>0.062518</td>\n",
              "      <td>0.571363</td>\n",
              "    </tr>\n",
              "    <tr>\n",
              "      <th>std</th>\n",
              "      <td>0.482918</td>\n",
              "      <td>106.863097</td>\n",
              "      <td>0.707476</td>\n",
              "      <td>13.605138</td>\n",
              "      <td>8.780829</td>\n",
              "      <td>0.998613</td>\n",
              "      <td>1.908286</td>\n",
              "      <td>0.579261</td>\n",
              "      <td>0.398561</td>\n",
              "      <td>0.097436</td>\n",
              "      <td>0.175767</td>\n",
              "      <td>0.844336</td>\n",
              "      <td>1.497437</td>\n",
              "      <td>0.652306</td>\n",
              "      <td>110.774548</td>\n",
              "      <td>131.655015</td>\n",
              "      <td>17.594721</td>\n",
              "      <td>50.535790</td>\n",
              "      <td>0.245291</td>\n",
              "      <td>0.792798</td>\n",
              "    </tr>\n",
              "    <tr>\n",
              "      <th>min</th>\n",
              "      <td>0.000000</td>\n",
              "      <td>0.000000</td>\n",
              "      <td>2015.000000</td>\n",
              "      <td>1.000000</td>\n",
              "      <td>1.000000</td>\n",
              "      <td>0.000000</td>\n",
              "      <td>0.000000</td>\n",
              "      <td>0.000000</td>\n",
              "      <td>0.000000</td>\n",
              "      <td>0.000000</td>\n",
              "      <td>0.000000</td>\n",
              "      <td>0.000000</td>\n",
              "      <td>0.000000</td>\n",
              "      <td>0.000000</td>\n",
              "      <td>1.000000</td>\n",
              "      <td>6.000000</td>\n",
              "      <td>0.000000</td>\n",
              "      <td>-6.380000</td>\n",
              "      <td>0.000000</td>\n",
              "      <td>0.000000</td>\n",
              "    </tr>\n",
              "    <tr>\n",
              "      <th>25%</th>\n",
              "      <td>0.000000</td>\n",
              "      <td>18.000000</td>\n",
              "      <td>2016.000000</td>\n",
              "      <td>16.000000</td>\n",
              "      <td>8.000000</td>\n",
              "      <td>0.000000</td>\n",
              "      <td>1.000000</td>\n",
              "      <td>2.000000</td>\n",
              "      <td>0.000000</td>\n",
              "      <td>0.000000</td>\n",
              "      <td>0.000000</td>\n",
              "      <td>0.000000</td>\n",
              "      <td>0.000000</td>\n",
              "      <td>0.000000</td>\n",
              "      <td>9.000000</td>\n",
              "      <td>62.000000</td>\n",
              "      <td>0.000000</td>\n",
              "      <td>69.290000</td>\n",
              "      <td>0.000000</td>\n",
              "      <td>0.000000</td>\n",
              "    </tr>\n",
              "    <tr>\n",
              "      <th>50%</th>\n",
              "      <td>0.000000</td>\n",
              "      <td>69.000000</td>\n",
              "      <td>2016.000000</td>\n",
              "      <td>28.000000</td>\n",
              "      <td>16.000000</td>\n",
              "      <td>1.000000</td>\n",
              "      <td>2.000000</td>\n",
              "      <td>2.000000</td>\n",
              "      <td>0.000000</td>\n",
              "      <td>0.000000</td>\n",
              "      <td>0.000000</td>\n",
              "      <td>0.000000</td>\n",
              "      <td>0.000000</td>\n",
              "      <td>0.000000</td>\n",
              "      <td>14.000000</td>\n",
              "      <td>179.000000</td>\n",
              "      <td>0.000000</td>\n",
              "      <td>94.575000</td>\n",
              "      <td>0.000000</td>\n",
              "      <td>0.000000</td>\n",
              "    </tr>\n",
              "    <tr>\n",
              "      <th>75%</th>\n",
              "      <td>1.000000</td>\n",
              "      <td>160.000000</td>\n",
              "      <td>2017.000000</td>\n",
              "      <td>38.000000</td>\n",
              "      <td>23.000000</td>\n",
              "      <td>2.000000</td>\n",
              "      <td>3.000000</td>\n",
              "      <td>2.000000</td>\n",
              "      <td>0.000000</td>\n",
              "      <td>0.000000</td>\n",
              "      <td>0.000000</td>\n",
              "      <td>0.000000</td>\n",
              "      <td>0.000000</td>\n",
              "      <td>0.000000</td>\n",
              "      <td>229.000000</td>\n",
              "      <td>270.000000</td>\n",
              "      <td>0.000000</td>\n",
              "      <td>126.000000</td>\n",
              "      <td>0.000000</td>\n",
              "      <td>1.000000</td>\n",
              "    </tr>\n",
              "    <tr>\n",
              "      <th>max</th>\n",
              "      <td>1.000000</td>\n",
              "      <td>737.000000</td>\n",
              "      <td>2017.000000</td>\n",
              "      <td>53.000000</td>\n",
              "      <td>31.000000</td>\n",
              "      <td>19.000000</td>\n",
              "      <td>50.000000</td>\n",
              "      <td>55.000000</td>\n",
              "      <td>10.000000</td>\n",
              "      <td>10.000000</td>\n",
              "      <td>1.000000</td>\n",
              "      <td>26.000000</td>\n",
              "      <td>72.000000</td>\n",
              "      <td>21.000000</td>\n",
              "      <td>535.000000</td>\n",
              "      <td>543.000000</td>\n",
              "      <td>391.000000</td>\n",
              "      <td>5400.000000</td>\n",
              "      <td>8.000000</td>\n",
              "      <td>5.000000</td>\n",
              "    </tr>\n",
              "  </tbody>\n",
              "</table>\n",
              "</div>\n",
              "      <button class=\"colab-df-convert\" onclick=\"convertToInteractive('df-7ace1058-ce5c-4f68-a134-059c0f9ea184')\"\n",
              "              title=\"Convert this dataframe to an interactive table.\"\n",
              "              style=\"display:none;\">\n",
              "        \n",
              "  <svg xmlns=\"http://www.w3.org/2000/svg\" height=\"24px\"viewBox=\"0 0 24 24\"\n",
              "       width=\"24px\">\n",
              "    <path d=\"M0 0h24v24H0V0z\" fill=\"none\"/>\n",
              "    <path d=\"M18.56 5.44l.94 2.06.94-2.06 2.06-.94-2.06-.94-.94-2.06-.94 2.06-2.06.94zm-11 1L8.5 8.5l.94-2.06 2.06-.94-2.06-.94L8.5 2.5l-.94 2.06-2.06.94zm10 10l.94 2.06.94-2.06 2.06-.94-2.06-.94-.94-2.06-.94 2.06-2.06.94z\"/><path d=\"M17.41 7.96l-1.37-1.37c-.4-.4-.92-.59-1.43-.59-.52 0-1.04.2-1.43.59L10.3 9.45l-7.72 7.72c-.78.78-.78 2.05 0 2.83L4 21.41c.39.39.9.59 1.41.59.51 0 1.02-.2 1.41-.59l7.78-7.78 2.81-2.81c.8-.78.8-2.07 0-2.86zM5.41 20L4 18.59l7.72-7.72 1.47 1.35L5.41 20z\"/>\n",
              "  </svg>\n",
              "      </button>\n",
              "      \n",
              "  <style>\n",
              "    .colab-df-container {\n",
              "      display:flex;\n",
              "      flex-wrap:wrap;\n",
              "      gap: 12px;\n",
              "    }\n",
              "\n",
              "    .colab-df-convert {\n",
              "      background-color: #E8F0FE;\n",
              "      border: none;\n",
              "      border-radius: 50%;\n",
              "      cursor: pointer;\n",
              "      display: none;\n",
              "      fill: #1967D2;\n",
              "      height: 32px;\n",
              "      padding: 0 0 0 0;\n",
              "      width: 32px;\n",
              "    }\n",
              "\n",
              "    .colab-df-convert:hover {\n",
              "      background-color: #E2EBFA;\n",
              "      box-shadow: 0px 1px 2px rgba(60, 64, 67, 0.3), 0px 1px 3px 1px rgba(60, 64, 67, 0.15);\n",
              "      fill: #174EA6;\n",
              "    }\n",
              "\n",
              "    [theme=dark] .colab-df-convert {\n",
              "      background-color: #3B4455;\n",
              "      fill: #D2E3FC;\n",
              "    }\n",
              "\n",
              "    [theme=dark] .colab-df-convert:hover {\n",
              "      background-color: #434B5C;\n",
              "      box-shadow: 0px 1px 3px 1px rgba(0, 0, 0, 0.15);\n",
              "      filter: drop-shadow(0px 1px 2px rgba(0, 0, 0, 0.3));\n",
              "      fill: #FFFFFF;\n",
              "    }\n",
              "  </style>\n",
              "\n",
              "      <script>\n",
              "        const buttonEl =\n",
              "          document.querySelector('#df-7ace1058-ce5c-4f68-a134-059c0f9ea184 button.colab-df-convert');\n",
              "        buttonEl.style.display =\n",
              "          google.colab.kernel.accessAllowed ? 'block' : 'none';\n",
              "\n",
              "        async function convertToInteractive(key) {\n",
              "          const element = document.querySelector('#df-7ace1058-ce5c-4f68-a134-059c0f9ea184');\n",
              "          const dataTable =\n",
              "            await google.colab.kernel.invokeFunction('convertToInteractive',\n",
              "                                                     [key], {});\n",
              "          if (!dataTable) return;\n",
              "\n",
              "          const docLinkHtml = 'Like what you see? Visit the ' +\n",
              "            '<a target=\"_blank\" href=https://colab.research.google.com/notebooks/data_table.ipynb>data table notebook</a>'\n",
              "            + ' to learn more about interactive tables.';\n",
              "          element.innerHTML = '';\n",
              "          dataTable['output_type'] = 'display_data';\n",
              "          await google.colab.output.renderOutput(dataTable, element);\n",
              "          const docLink = document.createElement('div');\n",
              "          docLink.innerHTML = docLinkHtml;\n",
              "          element.appendChild(docLink);\n",
              "        }\n",
              "      </script>\n",
              "    </div>\n",
              "  </div>\n",
              "  "
            ]
          },
          "metadata": {},
          "execution_count": 12
        }
      ]
    },
    {
      "cell_type": "markdown",
      "source": [
        ""
      ],
      "metadata": {
        "id": "vLviNNcV2XLT"
      }
    },
    {
      "cell_type": "markdown",
      "source": [
        "Let's make a copy of the data and work on it without chnaging the original data.\n",
        "\n",
        "---\n",
        "\n"
      ],
      "metadata": {
        "id": "gXNI7RHIhghc"
      }
    },
    {
      "cell_type": "code",
      "source": [
        "df_1 = df.copy()"
      ],
      "metadata": {
        "id": "6plVon-G1fA3"
      },
      "execution_count": null,
      "outputs": []
    },
    {
      "cell_type": "code",
      "source": [
        "df_1['hotel'].unique()                #We have date for 2 hotels i.e Resort and City Hotel."
      ],
      "metadata": {
        "colab": {
          "base_uri": "https://localhost:8080/"
        },
        "id": "W-wJC7GJ3YSd",
        "outputId": "393eb7a7-71e3-41c1-e2bd-2d407b5e2eb1"
      },
      "execution_count": null,
      "outputs": [
        {
          "output_type": "execute_result",
          "data": {
            "text/plain": [
              "array(['Resort Hotel', 'City Hotel'], dtype=object)"
            ]
          },
          "metadata": {},
          "execution_count": 14
        }
      ]
    },
    {
      "cell_type": "code",
      "source": [
        "df_1['is_canceled'].unique()               # 0 - Not Cancelled, 1 - Cancelled"
      ],
      "metadata": {
        "colab": {
          "base_uri": "https://localhost:8080/"
        },
        "id": "51YP1q8q3eY8",
        "outputId": "9ce36742-2af3-4535-9404-859473f3ab83"
      },
      "execution_count": null,
      "outputs": [
        {
          "output_type": "execute_result",
          "data": {
            "text/plain": [
              "array([0, 1])"
            ]
          },
          "metadata": {},
          "execution_count": 15
        }
      ]
    },
    {
      "cell_type": "code",
      "source": [
        "df_1['arrival_date_year'].unique()          #We have data for years 2015-2017"
      ],
      "metadata": {
        "colab": {
          "base_uri": "https://localhost:8080/"
        },
        "id": "mNtRyzJW3oFc",
        "outputId": "a4c096b0-02a3-41b0-989b-bbd1aabeedb1"
      },
      "execution_count": null,
      "outputs": [
        {
          "output_type": "execute_result",
          "data": {
            "text/plain": [
              "array([2015, 2016, 2017])"
            ]
          },
          "metadata": {},
          "execution_count": 16
        }
      ]
    },
    {
      "cell_type": "code",
      "source": [
        "df_1['meal'].unique()"
      ],
      "metadata": {
        "colab": {
          "base_uri": "https://localhost:8080/"
        },
        "id": "bu-L5vnz3q1U",
        "outputId": "7b2101c1-bbd5-4005-a974-47a9c06bdd0a"
      },
      "execution_count": null,
      "outputs": [
        {
          "output_type": "execute_result",
          "data": {
            "text/plain": [
              "array(['BB', 'FB', 'HB', 'SC', 'Undefined'], dtype=object)"
            ]
          },
          "metadata": {},
          "execution_count": 17
        }
      ]
    },
    {
      "cell_type": "code",
      "source": [
        "df_1['market_segment'].unique()"
      ],
      "metadata": {
        "colab": {
          "base_uri": "https://localhost:8080/"
        },
        "id": "sdGmZtUW3tJi",
        "outputId": "07f17472-0a20-4519-f6c9-a52d191daf18"
      },
      "execution_count": null,
      "outputs": [
        {
          "output_type": "execute_result",
          "data": {
            "text/plain": [
              "array(['Direct', 'Corporate', 'Online TA', 'Offline TA/TO',\n",
              "       'Complementary', 'Groups', 'Undefined', 'Aviation'], dtype=object)"
            ]
          },
          "metadata": {},
          "execution_count": 18
        }
      ]
    },
    {
      "cell_type": "code",
      "source": [
        "df_1['children'].unique()    # This column has 0 as well as null values"
      ],
      "metadata": {
        "colab": {
          "base_uri": "https://localhost:8080/"
        },
        "id": "363RIYfA3xXk",
        "outputId": "46534c4e-597c-4c1c-f21b-bb625e1739cb"
      },
      "execution_count": null,
      "outputs": [
        {
          "output_type": "execute_result",
          "data": {
            "text/plain": [
              "array([ 0.,  1.,  2., 10.,  3., nan])"
            ]
          },
          "metadata": {},
          "execution_count": 19
        }
      ]
    },
    {
      "cell_type": "markdown",
      "source": [
        "# **Cleaning of Data**\n"
      ],
      "metadata": {
        "id": "XJzSbKUw40gP"
      }
    },
    {
      "cell_type": "markdown",
      "source": [
        "**1. Remove duplicate rows if any**"
      ],
      "metadata": {
        "id": "qblWOgxw5Bdu"
      }
    },
    {
      "cell_type": "code",
      "source": [
        "df_1[df_1.duplicated()].shape"
      ],
      "metadata": {
        "colab": {
          "base_uri": "https://localhost:8080/"
        },
        "id": "96wc_OVk4gx1",
        "outputId": "aed3376b-89f7-43b4-bc98-e6e7d2f3e5d4"
      },
      "execution_count": null,
      "outputs": [
        {
          "output_type": "execute_result",
          "data": {
            "text/plain": [
              "(31994, 32)"
            ]
          },
          "metadata": {},
          "execution_count": 20
        }
      ]
    },
    {
      "cell_type": "code",
      "source": [
        "df_1.drop_duplicates(inplace=True)"
      ],
      "metadata": {
        "id": "xfGNG7j95Rqb"
      },
      "execution_count": null,
      "outputs": []
    },
    {
      "cell_type": "code",
      "source": [
        "df_1.shape"
      ],
      "metadata": {
        "colab": {
          "base_uri": "https://localhost:8080/"
        },
        "id": "ArNzzXvl5W04",
        "outputId": "60624a98-afab-45dd-9f16-6bbd0af2ccac"
      },
      "execution_count": null,
      "outputs": [
        {
          "output_type": "execute_result",
          "data": {
            "text/plain": [
              "(87396, 32)"
            ]
          },
          "metadata": {},
          "execution_count": 22
        }
      ]
    },
    {
      "cell_type": "markdown",
      "source": [
        "**2. Handle missing values**"
      ],
      "metadata": {
        "id": "Et4Y65OT5fdw"
      }
    },
    {
      "cell_type": "code",
      "source": [
        "df_1.isnull().sum().sort_values(ascending = False)[:8]"
      ],
      "metadata": {
        "colab": {
          "base_uri": "https://localhost:8080/"
        },
        "id": "WWViAecH5e39",
        "outputId": "20948314-c183-4442-85ff-2d4c81b3723a"
      },
      "execution_count": null,
      "outputs": [
        {
          "output_type": "execute_result",
          "data": {
            "text/plain": [
              "company               82137\n",
              "agent                 12193\n",
              "country                 452\n",
              "children                  4\n",
              "reserved_room_type        0\n",
              "assigned_room_type        0\n",
              "booking_changes           0\n",
              "deposit_type              0\n",
              "dtype: int64"
            ]
          },
          "metadata": {},
          "execution_count": 23
        }
      ]
    },
    {
      "cell_type": "markdown",
      "source": [
        "We have 4 variables which have null values and we need to work upon this in order to remove such values."
      ],
      "metadata": {
        "id": "osB1SpIcIPLX"
      }
    },
    {
      "cell_type": "markdown",
      "source": [
        "Company and Agent columns have the company or agent ID as data. So, there might be instances when a customer books a hotel without any agent or company. In such a case the values in these columns would be null. We'll fill up these values with 0."
      ],
      "metadata": {
        "id": "jKwD5mEd507j"
      }
    },
    {
      "cell_type": "code",
      "source": [
        "df_1[['agent','company']] = df_1[['agent','company']].fillna(0)"
      ],
      "metadata": {
        "id": "npKqmTuG5b5w"
      },
      "execution_count": null,
      "outputs": []
    },
    {
      "cell_type": "markdown",
      "source": [
        "Next column with missing value is 'country'. This column basically represents the country of origin of the customer. \\ Since, this column has datatype of string, we would replace the missing value with 'Others' as we aren't aware of the country they belong to."
      ],
      "metadata": {
        "id": "B2KENaiTJyTz"
      }
    },
    {
      "cell_type": "code",
      "source": [
        "df_1['country'].fillna('Others', inplace = True)"
      ],
      "metadata": {
        "id": "18CqlExzJ2vR"
      },
      "execution_count": null,
      "outputs": []
    },
    {
      "cell_type": "code",
      "source": [
        "df_1['children'].unique()"
      ],
      "metadata": {
        "colab": {
          "base_uri": "https://localhost:8080/"
        },
        "id": "aBoIE_Wv6j3g",
        "outputId": "e78a528a-1f8e-45bb-c948-c80a2900bb68"
      },
      "execution_count": null,
      "outputs": [
        {
          "output_type": "execute_result",
          "data": {
            "text/plain": [
              "array([ 0.,  1.,  2., 10.,  3., nan])"
            ]
          },
          "metadata": {},
          "execution_count": 26
        }
      ]
    },
    {
      "cell_type": "markdown",
      "source": [
        "The column 'children' has 0 value stored. This means no children were present in group of customers who made that particular transaction. \\ So, 'nan' values are the missing values due to error of recording data. \\ \\ We will replace the null values under this column with average value of children."
      ],
      "metadata": {
        "id": "FzLf4Zgo61XI"
      }
    },
    {
      "cell_type": "code",
      "source": [
        "df_1['children'].fillna(df_1['children'].mean(), inplace = True)"
      ],
      "metadata": {
        "id": "N66YJeSj61D5"
      },
      "execution_count": null,
      "outputs": []
    },
    {
      "cell_type": "markdown",
      "source": [
        "Now, let's check if we removed all the null values present in our data."
      ],
      "metadata": {
        "id": "hXZeyT4pKOIY"
      }
    },
    {
      "cell_type": "code",
      "source": [
        "df_1.isnull().sum().sort_values(ascending = False)[:8]"
      ],
      "metadata": {
        "id": "mroNCnnb6zF1",
        "outputId": "c0df29f2-d777-4cd7-cc33-35ae0054d7f1",
        "colab": {
          "base_uri": "https://localhost:8080/"
        }
      },
      "execution_count": null,
      "outputs": [
        {
          "output_type": "execute_result",
          "data": {
            "text/plain": [
              "hotel                          0\n",
              "is_canceled                    0\n",
              "reservation_status             0\n",
              "total_of_special_requests      0\n",
              "required_car_parking_spaces    0\n",
              "adr                            0\n",
              "customer_type                  0\n",
              "days_in_waiting_list           0\n",
              "dtype: int64"
            ]
          },
          "metadata": {},
          "execution_count": 28
        }
      ]
    },
    {
      "cell_type": "markdown",
      "source": [
        "There are some rows with a total number of adults, children and babies equal to zero. So we will remove such rows."
      ],
      "metadata": {
        "id": "5ICQvgNf2_2h"
      }
    },
    {
      "cell_type": "code",
      "source": [
        "df_1[df_1['adults']+df_1['children']+df_1['babies'] == 0].shape"
      ],
      "metadata": {
        "id": "-hAjYi0N8iK3",
        "colab": {
          "base_uri": "https://localhost:8080/"
        },
        "outputId": "ead4df2b-c919-490a-8570-40f03d673140"
      },
      "execution_count": null,
      "outputs": [
        {
          "output_type": "execute_result",
          "data": {
            "text/plain": [
              "(166, 32)"
            ]
          },
          "metadata": {},
          "execution_count": 29
        }
      ]
    },
    {
      "cell_type": "code",
      "source": [
        "df_1.drop(df_1[df_1['adults']+df_1['children']+df_1['babies'] == 0].index, inplace = True)"
      ],
      "metadata": {
        "id": "nqiPEWPs2jjm"
      },
      "execution_count": null,
      "outputs": []
    },
    {
      "cell_type": "markdown",
      "source": [
        "**3. Converting columns to appropriate datatypes.**"
      ],
      "metadata": {
        "id": "5ieA1Fi83DxB"
      }
    },
    {
      "cell_type": "code",
      "source": [
        "# Converting datatype of columns 'children', 'company' and 'agent' from float to int.\n",
        "df_1[['children', 'agent', 'company']] = df_1[['children', 'agent', 'company']].astype('int64')"
      ],
      "metadata": {
        "id": "F9Xxh_We29RV"
      },
      "execution_count": null,
      "outputs": []
    },
    {
      "cell_type": "code",
      "source": [
        "# changing datatype of column 'reservation_status_date' to data_type.\n",
        "df_1['reservation_status_date'] = pd.to_datetime(df_1['reservation_status_date'], format = '%Y-%m-%d')"
      ],
      "metadata": {
        "id": "iaqeADym3WSE"
      },
      "execution_count": null,
      "outputs": []
    },
    {
      "cell_type": "markdown",
      "source": [
        " **4. Adding important columns.**"
      ],
      "metadata": {
        "id": "McKTcqDY3pZa"
      }
    },
    {
      "cell_type": "code",
      "source": [
        "# Adding total no. of staying days in hotels\n",
        "df_1['total_stay'] = df_1['stays_in_week_nights']+df_1['stays_in_weekend_nights']"
      ],
      "metadata": {
        "id": "kAVCpb4s3YaT"
      },
      "execution_count": null,
      "outputs": []
    },
    {
      "cell_type": "code",
      "source": [
        "# Adding total people as column, i.e. total people = num of adults + children + babies\n",
        "df_1['total_people'] = df_1['adults']+df_1['babies']+df_1['children']"
      ],
      "metadata": {
        "id": "ncdC_5wp4Fir"
      },
      "execution_count": null,
      "outputs": []
    },
    {
      "cell_type": "markdown",
      "source": [
        "We are adding this column so that we can analyse the stay length at hotels as well as the total no. of guests for whom the booking has been made."
      ],
      "metadata": {
        "id": "QCT-PYxh4Pc2"
      }
    },
    {
      "cell_type": "markdown",
      "source": [
        "# ***EDA***"
      ],
      "metadata": {
        "id": "nbYCsS9X4Sbd"
      }
    },
    {
      "cell_type": "markdown",
      "source": [
        "Let's first look out for the number of bookings made for different hotels and the cancellation rate for each."
      ],
      "metadata": {
        "id": "3Cy2aN-_9DqY"
      }
    },
    {
      "cell_type": "code",
      "source": [
        "df_1['total_people'].groupby(df_1['hotel']).describe()"
      ],
      "metadata": {
        "colab": {
          "base_uri": "https://localhost:8080/",
          "height": 143
        },
        "id": "b_lIQ-9oBorF",
        "outputId": "2fbb8c93-0a2f-4559-a513-ee2b60a6eda1"
      },
      "execution_count": null,
      "outputs": [
        {
          "output_type": "execute_result",
          "data": {
            "text/plain": [
              "                count      mean       std  min  25%  50%  75%   max\n",
              "hotel                                                              \n",
              "City Hotel    53274.0  2.021342  0.696249  1.0  2.0  2.0  2.0  12.0\n",
              "Resort Hotel  33956.0  2.041289  0.918183  1.0  2.0  2.0  2.0  55.0"
            ],
            "text/html": [
              "\n",
              "  <div id=\"df-b409aac9-c569-42ee-91c4-d46be9d98ab3\">\n",
              "    <div class=\"colab-df-container\">\n",
              "      <div>\n",
              "<style scoped>\n",
              "    .dataframe tbody tr th:only-of-type {\n",
              "        vertical-align: middle;\n",
              "    }\n",
              "\n",
              "    .dataframe tbody tr th {\n",
              "        vertical-align: top;\n",
              "    }\n",
              "\n",
              "    .dataframe thead th {\n",
              "        text-align: right;\n",
              "    }\n",
              "</style>\n",
              "<table border=\"1\" class=\"dataframe\">\n",
              "  <thead>\n",
              "    <tr style=\"text-align: right;\">\n",
              "      <th></th>\n",
              "      <th>count</th>\n",
              "      <th>mean</th>\n",
              "      <th>std</th>\n",
              "      <th>min</th>\n",
              "      <th>25%</th>\n",
              "      <th>50%</th>\n",
              "      <th>75%</th>\n",
              "      <th>max</th>\n",
              "    </tr>\n",
              "    <tr>\n",
              "      <th>hotel</th>\n",
              "      <th></th>\n",
              "      <th></th>\n",
              "      <th></th>\n",
              "      <th></th>\n",
              "      <th></th>\n",
              "      <th></th>\n",
              "      <th></th>\n",
              "      <th></th>\n",
              "    </tr>\n",
              "  </thead>\n",
              "  <tbody>\n",
              "    <tr>\n",
              "      <th>City Hotel</th>\n",
              "      <td>53274.0</td>\n",
              "      <td>2.021342</td>\n",
              "      <td>0.696249</td>\n",
              "      <td>1.0</td>\n",
              "      <td>2.0</td>\n",
              "      <td>2.0</td>\n",
              "      <td>2.0</td>\n",
              "      <td>12.0</td>\n",
              "    </tr>\n",
              "    <tr>\n",
              "      <th>Resort Hotel</th>\n",
              "      <td>33956.0</td>\n",
              "      <td>2.041289</td>\n",
              "      <td>0.918183</td>\n",
              "      <td>1.0</td>\n",
              "      <td>2.0</td>\n",
              "      <td>2.0</td>\n",
              "      <td>2.0</td>\n",
              "      <td>55.0</td>\n",
              "    </tr>\n",
              "  </tbody>\n",
              "</table>\n",
              "</div>\n",
              "      <button class=\"colab-df-convert\" onclick=\"convertToInteractive('df-b409aac9-c569-42ee-91c4-d46be9d98ab3')\"\n",
              "              title=\"Convert this dataframe to an interactive table.\"\n",
              "              style=\"display:none;\">\n",
              "        \n",
              "  <svg xmlns=\"http://www.w3.org/2000/svg\" height=\"24px\"viewBox=\"0 0 24 24\"\n",
              "       width=\"24px\">\n",
              "    <path d=\"M0 0h24v24H0V0z\" fill=\"none\"/>\n",
              "    <path d=\"M18.56 5.44l.94 2.06.94-2.06 2.06-.94-2.06-.94-.94-2.06-.94 2.06-2.06.94zm-11 1L8.5 8.5l.94-2.06 2.06-.94-2.06-.94L8.5 2.5l-.94 2.06-2.06.94zm10 10l.94 2.06.94-2.06 2.06-.94-2.06-.94-.94-2.06-.94 2.06-2.06.94z\"/><path d=\"M17.41 7.96l-1.37-1.37c-.4-.4-.92-.59-1.43-.59-.52 0-1.04.2-1.43.59L10.3 9.45l-7.72 7.72c-.78.78-.78 2.05 0 2.83L4 21.41c.39.39.9.59 1.41.59.51 0 1.02-.2 1.41-.59l7.78-7.78 2.81-2.81c.8-.78.8-2.07 0-2.86zM5.41 20L4 18.59l7.72-7.72 1.47 1.35L5.41 20z\"/>\n",
              "  </svg>\n",
              "      </button>\n",
              "      \n",
              "  <style>\n",
              "    .colab-df-container {\n",
              "      display:flex;\n",
              "      flex-wrap:wrap;\n",
              "      gap: 12px;\n",
              "    }\n",
              "\n",
              "    .colab-df-convert {\n",
              "      background-color: #E8F0FE;\n",
              "      border: none;\n",
              "      border-radius: 50%;\n",
              "      cursor: pointer;\n",
              "      display: none;\n",
              "      fill: #1967D2;\n",
              "      height: 32px;\n",
              "      padding: 0 0 0 0;\n",
              "      width: 32px;\n",
              "    }\n",
              "\n",
              "    .colab-df-convert:hover {\n",
              "      background-color: #E2EBFA;\n",
              "      box-shadow: 0px 1px 2px rgba(60, 64, 67, 0.3), 0px 1px 3px 1px rgba(60, 64, 67, 0.15);\n",
              "      fill: #174EA6;\n",
              "    }\n",
              "\n",
              "    [theme=dark] .colab-df-convert {\n",
              "      background-color: #3B4455;\n",
              "      fill: #D2E3FC;\n",
              "    }\n",
              "\n",
              "    [theme=dark] .colab-df-convert:hover {\n",
              "      background-color: #434B5C;\n",
              "      box-shadow: 0px 1px 3px 1px rgba(0, 0, 0, 0.15);\n",
              "      filter: drop-shadow(0px 1px 2px rgba(0, 0, 0, 0.3));\n",
              "      fill: #FFFFFF;\n",
              "    }\n",
              "  </style>\n",
              "\n",
              "      <script>\n",
              "        const buttonEl =\n",
              "          document.querySelector('#df-b409aac9-c569-42ee-91c4-d46be9d98ab3 button.colab-df-convert');\n",
              "        buttonEl.style.display =\n",
              "          google.colab.kernel.accessAllowed ? 'block' : 'none';\n",
              "\n",
              "        async function convertToInteractive(key) {\n",
              "          const element = document.querySelector('#df-b409aac9-c569-42ee-91c4-d46be9d98ab3');\n",
              "          const dataTable =\n",
              "            await google.colab.kernel.invokeFunction('convertToInteractive',\n",
              "                                                     [key], {});\n",
              "          if (!dataTable) return;\n",
              "\n",
              "          const docLinkHtml = 'Like what you see? Visit the ' +\n",
              "            '<a target=\"_blank\" href=https://colab.research.google.com/notebooks/data_table.ipynb>data table notebook</a>'\n",
              "            + ' to learn more about interactive tables.';\n",
              "          element.innerHTML = '';\n",
              "          dataTable['output_type'] = 'display_data';\n",
              "          await google.colab.output.renderOutput(dataTable, element);\n",
              "          const docLink = document.createElement('div');\n",
              "          docLink.innerHTML = docLinkHtml;\n",
              "          element.appendChild(docLink);\n",
              "        }\n",
              "      </script>\n",
              "    </div>\n",
              "  </div>\n",
              "  "
            ]
          },
          "metadata": {},
          "execution_count": 35
        }
      ]
    },
    {
      "cell_type": "code",
      "source": [
        "plt.rcParams['figure.figsize'] = 8,8\n",
        "labels = df_1['hotel'].value_counts().index.tolist()\n",
        "sizes = df_1['hotel'].value_counts().tolist()\n",
        "plt.pie(sizes, explode=(0,0.1), colors = ['skyblue', 'yellow'], labels=labels, autopct='%1.1f%%', startangle=90, textprops={'fontsize':15})"
      ],
      "metadata": {
        "colab": {
          "base_uri": "https://localhost:8080/",
          "height": 570
        },
        "id": "GyjompBX9ZYO",
        "outputId": "a3135582-9134-445c-de27-5e771f22ff3c"
      },
      "execution_count": null,
      "outputs": [
        {
          "output_type": "execute_result",
          "data": {
            "text/plain": [
              "([<matplotlib.patches.Wedge at 0x7f87bcdbe690>,\n",
              "  <matplotlib.patches.Wedge at 0x7f87bcde0410>],\n",
              " [Text(-1.0341113192017586, -0.37498503903329095, 'City Hotel'),\n",
              "  Text(1.1281214774295134, 0.4090744824139636, 'Resort Hotel')],\n",
              " [Text(-0.5640607195645955, -0.20453729401815868, '61.1%'),\n",
              "  Text(0.6580708618338827, 0.23862678140814542, '38.9%')])"
            ]
          },
          "metadata": {},
          "execution_count": 36
        },
        {
          "output_type": "display_data",
          "data": {
            "text/plain": [
              "<Figure size 576x576 with 1 Axes>"
            ],
            "image/png": "[encoded data removed]"
          },
          "metadata": {}
        }
      ]
    },
    {
      "cell_type": "markdown",
      "source": [
        "\n",
        "*  It seems that a huge proportion of hotels was city hotel. Resort hotel tend to be on the expensive side and most people will just stick with city hotel.\n",
        "*  Also, resort hotels tend to be appropriate for larger group of people. ## Let's have an overview on the cancellations made for each.\n",
        "\n"
      ],
      "metadata": {
        "id": "sJw-Bx9W-j_8"
      }
    },
    {
      "cell_type": "code",
      "source": [
        "# Selecting and counting number of cancelled bookings for each hotel.\n",
        "canceled_data = df_1[df_1['is_canceled'] == 1]\n",
        "cancel_grp = canceled_data.groupby('hotel')\n",
        "D1 = pd.DataFrame(cancel_grp.size()).rename(columns = {0:'total_cancelled_bookings'})\n",
        "\n",
        "# Counting total number of bookings for each type of hotel\n",
        "grouped_by_hotel = df_1.groupby('hotel')\n",
        "total_booking = grouped_by_hotel.size()\n",
        "D2 = pd.DataFrame(total_booking).rename(columns = {0: 'total_bookings'})\n",
        "D3 = pd.concat([D1,D2], axis = 1)\n",
        "\n",
        "# Calculating cancel percentage \n",
        "D3['cancel_%'] = round((D3['total_cancelled_bookings']/D3['total_bookings'])*100,2)\n",
        "D3"
      ],
      "metadata": {
        "colab": {
          "base_uri": "https://localhost:8080/",
          "height": 143
        },
        "id": "OXmGJqApSE13",
        "outputId": "e5576d79-80e6-41b9-a5a6-f21fe3dd6f65"
      },
      "execution_count": null,
      "outputs": [
        {
          "output_type": "execute_result",
          "data": {
            "text/plain": [
              "              total_cancelled_bookings  total_bookings  cancel_%\n",
              "hotel                                                           \n",
              "City Hotel                       16035           53274     30.10\n",
              "Resort Hotel                      7974           33956     23.48"
            ],
            "text/html": [
              "\n",
              "  <div id=\"df-30a67c47-4f62-461b-874b-6955f3645ec5\">\n",
              "    <div class=\"colab-df-container\">\n",
              "      <div>\n",
              "<style scoped>\n",
              "    .dataframe tbody tr th:only-of-type {\n",
              "        vertical-align: middle;\n",
              "    }\n",
              "\n",
              "    .dataframe tbody tr th {\n",
              "        vertical-align: top;\n",
              "    }\n",
              "\n",
              "    .dataframe thead th {\n",
              "        text-align: right;\n",
              "    }\n",
              "</style>\n",
              "<table border=\"1\" class=\"dataframe\">\n",
              "  <thead>\n",
              "    <tr style=\"text-align: right;\">\n",
              "      <th></th>\n",
              "      <th>total_cancelled_bookings</th>\n",
              "      <th>total_bookings</th>\n",
              "      <th>cancel_%</th>\n",
              "    </tr>\n",
              "    <tr>\n",
              "      <th>hotel</th>\n",
              "      <th></th>\n",
              "      <th></th>\n",
              "      <th></th>\n",
              "    </tr>\n",
              "  </thead>\n",
              "  <tbody>\n",
              "    <tr>\n",
              "      <th>City Hotel</th>\n",
              "      <td>16035</td>\n",
              "      <td>53274</td>\n",
              "      <td>30.10</td>\n",
              "    </tr>\n",
              "    <tr>\n",
              "      <th>Resort Hotel</th>\n",
              "      <td>7974</td>\n",
              "      <td>33956</td>\n",
              "      <td>23.48</td>\n",
              "    </tr>\n",
              "  </tbody>\n",
              "</table>\n",
              "</div>\n",
              "      <button class=\"colab-df-convert\" onclick=\"convertToInteractive('df-30a67c47-4f62-461b-874b-6955f3645ec5')\"\n",
              "              title=\"Convert this dataframe to an interactive table.\"\n",
              "              style=\"display:none;\">\n",
              "        \n",
              "  <svg xmlns=\"http://www.w3.org/2000/svg\" height=\"24px\"viewBox=\"0 0 24 24\"\n",
              "       width=\"24px\">\n",
              "    <path d=\"M0 0h24v24H0V0z\" fill=\"none\"/>\n",
              "    <path d=\"M18.56 5.44l.94 2.06.94-2.06 2.06-.94-2.06-.94-.94-2.06-.94 2.06-2.06.94zm-11 1L8.5 8.5l.94-2.06 2.06-.94-2.06-.94L8.5 2.5l-.94 2.06-2.06.94zm10 10l.94 2.06.94-2.06 2.06-.94-2.06-.94-.94-2.06-.94 2.06-2.06.94z\"/><path d=\"M17.41 7.96l-1.37-1.37c-.4-.4-.92-.59-1.43-.59-.52 0-1.04.2-1.43.59L10.3 9.45l-7.72 7.72c-.78.78-.78 2.05 0 2.83L4 21.41c.39.39.9.59 1.41.59.51 0 1.02-.2 1.41-.59l7.78-7.78 2.81-2.81c.8-.78.8-2.07 0-2.86zM5.41 20L4 18.59l7.72-7.72 1.47 1.35L5.41 20z\"/>\n",
              "  </svg>\n",
              "      </button>\n",
              "      \n",
              "  <style>\n",
              "    .colab-df-container {\n",
              "      display:flex;\n",
              "      flex-wrap:wrap;\n",
              "      gap: 12px;\n",
              "    }\n",
              "\n",
              "    .colab-df-convert {\n",
              "      background-color: #E8F0FE;\n",
              "      border: none;\n",
              "      border-radius: 50%;\n",
              "      cursor: pointer;\n",
              "      display: none;\n",
              "      fill: #1967D2;\n",
              "      height: 32px;\n",
              "      padding: 0 0 0 0;\n",
              "      width: 32px;\n",
              "    }\n",
              "\n",
              "    .colab-df-convert:hover {\n",
              "      background-color: #E2EBFA;\n",
              "      box-shadow: 0px 1px 2px rgba(60, 64, 67, 0.3), 0px 1px 3px 1px rgba(60, 64, 67, 0.15);\n",
              "      fill: #174EA6;\n",
              "    }\n",
              "\n",
              "    [theme=dark] .colab-df-convert {\n",
              "      background-color: #3B4455;\n",
              "      fill: #D2E3FC;\n",
              "    }\n",
              "\n",
              "    [theme=dark] .colab-df-convert:hover {\n",
              "      background-color: #434B5C;\n",
              "      box-shadow: 0px 1px 3px 1px rgba(0, 0, 0, 0.15);\n",
              "      filter: drop-shadow(0px 1px 2px rgba(0, 0, 0, 0.3));\n",
              "      fill: #FFFFFF;\n",
              "    }\n",
              "  </style>\n",
              "\n",
              "      <script>\n",
              "        const buttonEl =\n",
              "          document.querySelector('#df-30a67c47-4f62-461b-874b-6955f3645ec5 button.colab-df-convert');\n",
              "        buttonEl.style.display =\n",
              "          google.colab.kernel.accessAllowed ? 'block' : 'none';\n",
              "\n",
              "        async function convertToInteractive(key) {\n",
              "          const element = document.querySelector('#df-30a67c47-4f62-461b-874b-6955f3645ec5');\n",
              "          const dataTable =\n",
              "            await google.colab.kernel.invokeFunction('convertToInteractive',\n",
              "                                                     [key], {});\n",
              "          if (!dataTable) return;\n",
              "\n",
              "          const docLinkHtml = 'Like what you see? Visit the ' +\n",
              "            '<a target=\"_blank\" href=https://colab.research.google.com/notebooks/data_table.ipynb>data table notebook</a>'\n",
              "            + ' to learn more about interactive tables.';\n",
              "          element.innerHTML = '';\n",
              "          dataTable['output_type'] = 'display_data';\n",
              "          await google.colab.output.renderOutput(dataTable, element);\n",
              "          const docLink = document.createElement('div');\n",
              "          docLink.innerHTML = docLinkHtml;\n",
              "          element.appendChild(docLink);\n",
              "        }\n",
              "      </script>\n",
              "    </div>\n",
              "  </div>\n",
              "  "
            ]
          },
          "metadata": {},
          "execution_count": 37
        }
      ]
    },
    {
      "cell_type": "code",
      "source": [
        "plt.figure(figsize = (10,5))\n",
        "sns.barplot(x = D3.index, y = D3['cancel_%'])\n",
        "plt.title('Cancellation % for both hotels')\n",
        "plt.show()"
      ],
      "metadata": {
        "colab": {
          "base_uri": "https://localhost:8080/",
          "height": 350
        },
        "id": "WojQZLHVSal4",
        "outputId": "93a71b8f-826e-48fb-e4a1-be6e11549168"
      },
      "execution_count": null,
      "outputs": [
        {
          "output_type": "display_data",
          "data": {
            "text/plain": [
              "<Figure size 720x360 with 1 Axes>"
            ],
            "image/png": "[encoded data removed]"
          },
          "metadata": {
            "needs_background": "light"
          }
        }
      ]
    },
    {
      "cell_type": "markdown",
      "source": [
        "Almost 30% of City Hotel's bookings and around 25% of Resort Hotel's bookings are cancelled."
      ],
      "metadata": {
        "id": "zl_ARLWnSzbb"
      }
    },
    {
      "cell_type": "markdown",
      "source": [
        "Now let's first find the correlation between the numerical data.\n",
        "\n",
        "Since, columns like 'is_cancelled', 'arrival_date_year', 'arrival_date_week_number', 'arrival_date_day_of_month', 'is_repeated_guest', 'company', 'agent' are categorical data having numerical type. So we wont need to check them for correlation.\n",
        "\n",
        "Also, we have added total_stay and total_people columns. So, we can remove adults, children, babies, stays_in_weekend_nights, stays_in_week_nights columns."
      ],
      "metadata": {
        "id": "PNgu-Ft34ZMt"
      }
    },
    {
      "cell_type": "code",
      "source": [
        "numerical_df_1 = df_1[['lead_time','previous_cancellations','previous_bookings_not_canceled','booking_changes','days_in_waiting_list','adr','required_car_parking_spaces','total_of_special_requests','total_stay','total_people']]\n"
      ],
      "metadata": {
        "id": "024jnBEp4M4y"
      },
      "execution_count": null,
      "outputs": []
    },
    {
      "cell_type": "code",
      "source": [
        "#correlation matrix\n",
        "correlmat = numerical_df_1.corr()\n",
        "# f, ax = plt.subplots(figsize=(10, 8)) \n",
        "plt.figure(figsize=(10,8))\n",
        "sns.heatmap(correlmat, annot=True, vmax=0.7, square = True)"
      ],
      "metadata": {
        "colab": {
          "base_uri": "https://localhost:8080/",
          "height": 658
        },
        "id": "IpmfxWevOtzL",
        "outputId": "f58f9b14-733e-4bfc-85ab-5654794c74cd"
      },
      "execution_count": null,
      "outputs": [
        {
          "output_type": "execute_result",
          "data": {
            "text/plain": [
              "<matplotlib.axes._subplots.AxesSubplot at 0x7f87bc7fb5d0>"
            ]
          },
          "metadata": {},
          "execution_count": 40
        },
        {
          "output_type": "display_data",
          "data": {
            "text/plain": [
              "<Figure size 720x576 with 2 Axes>"
            ],
            "image/png": "[encoded data removed]"
          },
          "metadata": {
            "needs_background": "light"
          }
        }
      ]
    },
    {
      "cell_type": "markdown",
      "source": [
        "1) Total stay length and lead time have slight correlation. This may means that for longer hotel stays people generally plan a little before the the actual arrival.\n",
        "\n",
        "2) adr (Average Daily Rate) is slightly correlated with total_people, which makes sense as more no. of people means more revenue, therefore more adr.\n"
      ],
      "metadata": {
        "id": "M_AiXrGl5J6W"
      }
    },
    {
      "cell_type": "markdown",
      "source": [
        "*Lets see does length of stay affects the adr.*"
      ],
      "metadata": {
        "id": "copkKA166ZaX"
      }
    },
    {
      "cell_type": "code",
      "source": [
        "plt.figure(figsize = (10,5))\n",
        "sns.scatterplot(y = 'adr', x = 'total_stay', data = df_1)\n",
        "plt.show()"
      ],
      "metadata": {
        "colab": {
          "base_uri": "https://localhost:8080/",
          "height": 335
        },
        "id": "-qEDt2GO5ByI",
        "outputId": "927ed862-3dd6-420f-83d1-dd40d1d3eebe"
      },
      "execution_count": null,
      "outputs": [
        {
          "output_type": "display_data",
          "data": {
            "text/plain": [
              "<Figure size 720x360 with 1 Axes>"
            ],
            "image/png": "[encoded data removed]"
          },
          "metadata": {
            "needs_background": "light"
          }
        }
      ]
    },
    {
      "cell_type": "markdown",
      "source": [
        "We notice that there is an outlier in adr, so we will remove that for better scatter plot"
      ],
      "metadata": {
        "id": "ftCtHyfC5Uos"
      }
    },
    {
      "cell_type": "code",
      "source": [
        "df_1.drop(df_1[df_1['adr'] > 1000].index, inplace = True)"
      ],
      "metadata": {
        "id": "4fiAm7635Nho"
      },
      "execution_count": null,
      "outputs": []
    },
    {
      "cell_type": "code",
      "source": [
        "plt.figure(figsize = (10,5))\n",
        "sns.scatterplot(y = 'adr', x = 'total_stay', data = df_1)\n",
        "plt.show()"
      ],
      "metadata": {
        "colab": {
          "base_uri": "https://localhost:8080/",
          "height": 335
        },
        "id": "az0romlD5Y3g",
        "outputId": "02a9fa43-6d09-481f-c26a-3167dfd048f5"
      },
      "execution_count": null,
      "outputs": [
        {
          "output_type": "display_data",
          "data": {
            "text/plain": [
              "<Figure size 720x360 with 1 Axes>"
            ],
            "image/png": "[encoded data removed]"
          },
          "metadata": {
            "needs_background": "light"
          }
        }
      ]
    },
    {
      "cell_type": "markdown",
      "source": [
        "From the scatter plot we can see that with an increase in the length of total_stay, the adr decreases. This suggests that for longer stay, the customer may arrive at a far better deal.\n",
        "\n"
      ],
      "metadata": {
        "id": "XpUKG-Tw5r5k"
      }
    },
    {
      "cell_type": "markdown",
      "source": [
        "# **Univariate Analysis**"
      ],
      "metadata": {
        "id": "GJpCqRsR5uFE"
      }
    },
    {
      "cell_type": "markdown",
      "source": [
        "*Q1. Which agent makes the most no. of bookings?*"
      ],
      "metadata": {
        "id": "eyFd43J451XU"
      }
    },
    {
      "cell_type": "code",
      "source": [
        "d1 = pd.DataFrame(df_1['agent'].value_counts()).reset_index().rename(columns = {'index':'agent','agent':'num_of_bookings'}).sort_values(by = 'num_of_bookings', ascending = False)\n",
        "d1.drop(d1[d1['agent'] == 0].index, inplace = True)            # 0 represents that booking is not made by an agent\n",
        "d1 = d1[:7]                                                   # Selecting top 7 performing agents\n",
        "plt.figure(figsize = (7,5))\n",
        "sns.barplot(x = 'agent', y = 'num_of_bookings', data = d1, order = d1.sort_values('num_of_bookings', ascending = False).agent)"
      ],
      "metadata": {
        "colab": {
          "base_uri": "https://localhost:8080/",
          "height": 353
        },
        "id": "iQdv_QNw5bNI",
        "outputId": "528d2f14-c024-4989-cb79-073e7fdbd772"
      },
      "execution_count": null,
      "outputs": [
        {
          "output_type": "execute_result",
          "data": {
            "text/plain": [
              "<matplotlib.axes._subplots.AxesSubplot at 0x7f87b9e91fd0>"
            ]
          },
          "metadata": {},
          "execution_count": 44
        },
        {
          "output_type": "display_data",
          "data": {
            "text/plain": [
              "<Figure size 504x360 with 1 Axes>"
            ],
            "image/png": "[encoded data removed]"
          },
          "metadata": {
            "needs_background": "light"
          }
        }
      ]
    },
    {
      "cell_type": "markdown",
      "source": [
        "Agent with ID as 9 has made most no. of bookings."
      ],
      "metadata": {
        "id": "RAHGjUPi6m0R"
      }
    },
    {
      "cell_type": "markdown",
      "source": [
        "Q2. Which room type is in most demand and which room type generates highest adr?\n",
        "\n"
      ],
      "metadata": {
        "id": "ZAELHBDR6pDb"
      }
    },
    {
      "cell_type": "code",
      "source": [
        "fig, axes = plt.subplots(1, 2, figsize=(18, 8))\n",
        "\n",
        "grp_by_room = df_1.groupby('reserved_room_type')\n",
        "d1['Num_of_bookings'] = grp_by_room.size()\n",
        "\n",
        "sns.countplot(ax = axes[0], x = df_1['reserved_room_type'])\n",
        "sns.boxplot(ax = axes[1], x = df_1['assigned_room_type'], y = df_1['adr'])\n",
        "plt.show()"
      ],
      "metadata": {
        "colab": {
          "base_uri": "https://localhost:8080/",
          "height": 498
        },
        "id": "BWZbbwRq5bAj",
        "outputId": "d19b7a56-48ba-43a9-85c1-6d6e30fffdb8"
      },
      "execution_count": null,
      "outputs": [
        {
          "output_type": "display_data",
          "data": {
            "text/plain": [
              "<Figure size 1296x576 with 2 Axes>"
            ],
            "image/png": "[encoded data removed]"
          },
          "metadata": {
            "needs_background": "light"
          }
        }
      ]
    },
    {
      "cell_type": "code",
      "source": [
        "fig, axes = plt.subplots(1, 2, figsize=(18, 8))\n",
        "\n",
        "grp_by_room = df_1.groupby('assigned_room_type')\n",
        "d1['Num_of_bookings'] = grp_by_room.size()\n",
        "\n",
        "sns.countplot(ax = axes[0], x = df_1['assigned_room_type'])\n",
        "sns.boxplot(ax = axes[1], x = df_1['assigned_room_type'], y = df_1['adr'])\n",
        "plt.show()"
      ],
      "metadata": {
        "colab": {
          "base_uri": "https://localhost:8080/",
          "height": 498
        },
        "id": "iY5DSUSo6Zkw",
        "outputId": "6244f65d-d853-4e13-835a-16416b22c77e"
      },
      "execution_count": null,
      "outputs": [
        {
          "output_type": "display_data",
          "data": {
            "text/plain": [
              "<Figure size 1296x576 with 2 Axes>"
            ],
            "image/png": "[encoded data removed]"
          },
          "metadata": {
            "needs_background": "light"
          }
        }
      ]
    },
    {
      "cell_type": "markdown",
      "source": [
        "Most demanded room type is A, but better adr rooms are of type H, G and C also. Hotels should increase the no. of room types A, G and H to maximise revenue."
      ],
      "metadata": {
        "id": "ZBMHmw6c8SM2"
      }
    },
    {
      "cell_type": "markdown",
      "source": [
        "# **(1) Hotel-wise analysis**"
      ],
      "metadata": {
        "id": "86GNVg848mMN"
      }
    },
    {
      "cell_type": "markdown",
      "source": [
        "Q1. Which hotel seems to make more revenue?"
      ],
      "metadata": {
        "id": "r1a0g-H48-YG"
      }
    },
    {
      "cell_type": "code",
      "source": [
        "grouped_by_hotel = df_1.groupby('hotel')\n",
        "d3 = grouped_by_hotel['adr'].agg(np.mean).reset_index().rename(columns = {'adr':'avg_adr'})   # calculating average adr\n",
        "plt.figure(figsize = (8,5))\n",
        "plt.title('Average Daily Revenue made')\n",
        "sns.barplot(x = d3['hotel'], y = d3['avg_adr'] )\n",
        "plt.show()"
      ],
      "metadata": {
        "colab": {
          "base_uri": "https://localhost:8080/",
          "height": 350
        },
        "id": "Wh7ALEDv806q",
        "outputId": "a8f49453-e182-4da2-dd3e-35b87747013c"
      },
      "execution_count": null,
      "outputs": [
        {
          "output_type": "display_data",
          "data": {
            "text/plain": [
              "<Figure size 576x360 with 1 Axes>"
            ],
            "image/png": "[encoded data removed]"
          },
          "metadata": {
            "needs_background": "light"
          }
        }
      ]
    },
    {
      "cell_type": "markdown",
      "source": [
        "Avg adr of Resort hotel is a bit lower than that of City hotel. Hence, City hotel seems to be making slightly more revenue."
      ],
      "metadata": {
        "id": "8j7WSoJG9M74"
      }
    },
    {
      "cell_type": "markdown",
      "source": [
        "Q2. What is the preferred stay length in each hotel?"
      ],
      "metadata": {
        "id": "JnzZ5tr597v7"
      }
    },
    {
      "cell_type": "code",
      "source": [
        "not_canceled = df_1[df_1['is_canceled'] == 0]\n",
        "s1 = not_canceled[not_canceled['total_stay'] < 15]\n",
        "plt.figure(figsize = (10,5))\n",
        "plt.title('No. of days guest stays in hotel')\n",
        "sns.countplot(x = s1['total_stay'], hue = s1['hotel'])\n",
        "plt.show()"
      ],
      "metadata": {
        "colab": {
          "base_uri": "https://localhost:8080/",
          "height": 351
        },
        "id": "DAPvS_0Y9Zy5",
        "outputId": "f3947430-8d79-44cf-8ed1-312861fb3de5"
      },
      "execution_count": null,
      "outputs": [
        {
          "output_type": "display_data",
          "data": {
            "text/plain": [
              "<Figure size 720x360 with 1 Axes>"
            ],
            "image/png": "[encoded data removed]"
          },
          "metadata": {
            "needs_background": "light"
          }
        }
      ]
    },
    {
      "cell_type": "markdown",
      "source": [
        "Most common stay length is less than 4 days and generally people prefer City hotel for short stay, but for long stays, Resort Hotel is preferred."
      ],
      "metadata": {
        "id": "pnlkAHQR-JOK"
      }
    },
    {
      "cell_type": "markdown",
      "source": [
        "Q3. Which hotel has high chance that its customer will return for another stay?"
      ],
      "metadata": {
        "id": "LPlm83sfTKda"
      }
    },
    {
      "cell_type": "code",
      "source": [
        "# Selecting and counting repeated customers bookings\n",
        "repeated_data = df_1[df_1['is_repeated_guest'] == 1]\n",
        "repeat_grp = repeated_data.groupby('hotel')\n",
        "D1 = pd.DataFrame(repeat_grp.size()).rename(columns = {0:'total_repeated_guests'})\n",
        "\n",
        "# Counting total bookings\n",
        "total_booking = grouped_by_hotel.size()\n",
        "D2 = pd.DataFrame(total_booking).rename(columns = {0: 'total_bookings'})\n",
        "D3 = pd.concat([D1,D2], axis = 1)\n",
        "\n",
        "# Calculating repeat %\n",
        "D3['repeat_%'] = round((D3['total_repeated_guests']/D3['total_bookings'])*100,2)\n",
        "\n",
        "plt.figure(figsize = (10,5))\n",
        "plt.title('Customer repeat % for both hotels')\n",
        "sns.barplot(x = D3.index, y = D3['repeat_%'])\n",
        "plt.show()"
      ],
      "metadata": {
        "colab": {
          "base_uri": "https://localhost:8080/",
          "height": 350
        },
        "id": "1lxeuah-TMdX",
        "outputId": "0be5ccd1-ce29-42a9-f08c-be544b237ec3"
      },
      "execution_count": null,
      "outputs": [
        {
          "output_type": "display_data",
          "data": {
            "text/plain": [
              "<Figure size 720x360 with 1 Axes>"
            ],
            "image/png": "[encoded data removed]"
          },
          "metadata": {
            "needs_background": "light"
          }
        }
      ]
    },
    {
      "cell_type": "markdown",
      "source": [
        "*Both hotels have very small percentage that customer will repeat, but Resort hotel has slightly higher repeat % than City Hotel.*\n"
      ],
      "metadata": {
        "id": "STtnlXFIUgHA"
      }
    },
    {
      "cell_type": "markdown",
      "source": [
        "# **(2) Distribution Channel wise Analysis**"
      ],
      "metadata": {
        "id": "hKACdT9K_PmD"
      }
    },
    {
      "cell_type": "markdown",
      "source": [
        "Q1. Which is the most common channel for booking hotels?\n",
        "\n"
      ],
      "metadata": {
        "id": "XflD5YvN_Tii"
      }
    },
    {
      "cell_type": "code",
      "source": [
        "group_by_dc = df_1.groupby('distribution_channel')\n",
        "d1 = pd.DataFrame(round((group_by_dc.size()/df_1.shape[0])*100,2)).reset_index().rename(columns = {0: 'Booking_%'})\n",
        "plt.figure(figsize = (8,8))\n",
        "data = d1['Booking_%']\n",
        "labels = d1['distribution_channel']\n",
        "plt.pie(x=data, autopct=\"%.2f%%\", explode=[0.05]*5, labels=labels, pctdistance=0.5)\n",
        "plt.title(\"Booking % by distribution channels\", fontsize=14);"
      ],
      "metadata": {
        "colab": {
          "base_uri": "https://localhost:8080/",
          "height": 483
        },
        "id": "7x8aG67I_K4G",
        "outputId": "dffae49e-c078-4e58-9c90-91a2c5f4c638"
      },
      "execution_count": null,
      "outputs": [
        {
          "output_type": "display_data",
          "data": {
            "text/plain": [
              "<Figure size 576x576 with 1 Axes>"
            ],
            "image/png": "[encoded data removed]"
          },
          "metadata": {}
        }
      ]
    },
    {
      "cell_type": "markdown",
      "source": [
        "Q2. Which distribution channel brings better revenue generating deals for hotels?\n",
        "\n"
      ],
      "metadata": {
        "id": "IWIp-osrA84f"
      }
    },
    {
      "cell_type": "code",
      "source": [
        "group_by_dc_hotel = df_1.groupby(['distribution_channel', 'hotel'])\n",
        "d5 = pd.DataFrame(round((group_by_dc_hotel['adr']).agg(np.mean),2)).reset_index().rename(columns = {'adr': 'avg_adr'})\n",
        "plt.figure(figsize = (7,5))\n",
        "plt.title('Average adr through various disctribution channels')\n",
        "sns.barplot(x = d5['distribution_channel'], y = d5['avg_adr'], hue = d5['hotel'])\n",
        "plt.ylim(40,140)\n",
        "plt.show()"
      ],
      "metadata": {
        "colab": {
          "base_uri": "https://localhost:8080/",
          "height": 351
        },
        "id": "7p-w3Av6A5eS",
        "outputId": "5a9e86ca-eb30-4582-eb9d-040230a73f6a"
      },
      "execution_count": null,
      "outputs": [
        {
          "output_type": "display_data",
          "data": {
            "text/plain": [
              "<Figure size 504x360 with 1 Axes>"
            ],
            "image/png": "[encoded data removed]"
          },
          "metadata": {
            "needs_background": "light"
          }
        }
      ]
    },
    {
      "cell_type": "markdown",
      "source": [
        "GDS channel brings higher revenue generating deals for City hotel, in contrast to that most bookings come via TA/TO. City Hotel can work to increase outreach on GDS channels to get more higher revenue generating deals.\n",
        "\n",
        "Resort hotel has more revnue generating deals by direct and TA/TO channel. Resort Hotel need to increase outreach on GDS channel to increase revenue."
      ],
      "metadata": {
        "id": "RKc9FgVUWsav"
      }
    },
    {
      "cell_type": "markdown",
      "source": [
        "## **(3) Booking Cancellation Analysis**\n"
      ],
      "metadata": {
        "id": "DjtHt9qjBTTX"
      }
    },
    {
      "cell_type": "markdown",
      "source": [
        "Q1. Which significant distribution channel has highest cancellation percentage?"
      ],
      "metadata": {
        "id": "R6YemysbBW_d"
      }
    },
    {
      "cell_type": "code",
      "source": [
        "df_1['is_canceled'] = df_1.is_canceled.replace(['canceled', 'not_canceled'], [1,0])\n",
        "d = pd.DataFrame((group_by_dc['is_canceled'].sum()/group_by_dc.size())*100).drop(index = 'Undefined').rename(columns = {0: 'Cancel_%'})\n",
        "plt.figure(figsize = (10,5))\n",
        "plt.title('Cancel percentage of different distribution channels')\n",
        "sns.barplot(x = d.index, y = d['Cancel_%'])\n",
        "plt.show()"
      ],
      "metadata": {
        "colab": {
          "base_uri": "https://localhost:8080/",
          "height": 351
        },
        "id": "8v5kmuSMBPG5",
        "outputId": "e151adc0-9052-4d9b-deb5-88cc0757f792"
      },
      "execution_count": null,
      "outputs": [
        {
          "output_type": "display_data",
          "data": {
            "text/plain": [
              "<Figure size 720x360 with 1 Axes>"
            ],
            "image/png": "[encoded data removed]"
          },
          "metadata": {
            "needs_background": "light"
          }
        }
      ]
    },
    {
      "cell_type": "markdown",
      "source": [
        "TA/TO has highest booking cancellation percentage. Therefore, a booking via TA/TO is around 30% likely to get cancelled."
      ],
      "metadata": {
        "id": "TGP-1mImBoSs"
      }
    },
    {
      "cell_type": "markdown",
      "source": [
        "Let us see what causes the cancelation of bookings of rooms by customers.\n",
        "One question can arise that may be longer waiting period or longer lead time causes the cancellation of bookings, let us check that."
      ],
      "metadata": {
        "id": "vaRMq-wrBqil"
      }
    },
    {
      "cell_type": "code",
      "source": [
        "waiting_bookings = df_1[df_1['days_in_waiting_list'] !=0]  # Selecting bookings with non zero waiting time\n",
        "\n",
        "fig, axes = plt.subplots(1, 2, figsize=(18, 8))\n",
        "sns.kdeplot(ax=axes[0],x = 'days_in_waiting_list', hue = 'is_canceled' , data = waiting_bookings)\n",
        "sns.kdeplot(ax = axes[1], x = df_1['lead_time'], hue = df_1['is_canceled'])\n",
        "plt.show()"
      ],
      "metadata": {
        "colab": {
          "base_uri": "https://localhost:8080/",
          "height": 498
        },
        "id": "Laf50nsNBhrg",
        "outputId": "383f2141-4179-489b-d910-1ede33432c97"
      },
      "execution_count": null,
      "outputs": [
        {
          "output_type": "display_data",
          "data": {
            "text/plain": [
              "<Figure size 1296x576 with 2 Axes>"
            ],
            "image/png": "[encoded data removed]"
          },
          "metadata": {
            "needs_background": "light"
          }
        }
      ]
    },
    {
      "cell_type": "markdown",
      "source": [
        "We see that most of the bookings that are cancelled have waiting period of less than 150 days but also most of bookings that are not cancelled also have waiting period less than 150 days. Hence this shows that waiting period has no effect on cancellation of bookings. \\ \\ Also, lead time has no affect on cancellation of bookings, as both curves of cancelation and not cncelation are similar for lead time too."
      ],
      "metadata": {
        "id": "AITyyhzoB6h0"
      }
    },
    {
      "cell_type": "markdown",
      "source": [
        "Now we will check whether not getting allotted the same room type as demanded is the cause of cancellation fo bookings"
      ],
      "metadata": {
        "id": "TlcgqdlXB7lS"
      }
    },
    {
      "cell_type": "markdown",
      "source": [
        "We see that not getting same room as demanded is not the case of cancellation of rooms. A significant percentage of bookings are not cancelled even after getting different room as demanded."
      ],
      "metadata": {
        "id": "DzlCqqnQCLbU"
      }
    },
    {
      "cell_type": "markdown",
      "source": [
        "# **From where does most of the guests are coming?**\n"
      ],
      "metadata": {
        "id": "P45vKzB4ClKu"
      }
    },
    {
      "cell_type": "code",
      "source": [
        "country_wise_guests = df_1[df_1['is_canceled'] == 0]['country'].value_counts().reset_index()\n",
        "country_wise_guests.columns = ['country', 'No of guests']\n",
        "country_wise_guests"
      ],
      "metadata": {
        "colab": {
          "base_uri": "https://localhost:8080/",
          "height": 424
        },
        "id": "JSfZEvyyCUlP",
        "outputId": "13eae803-24cf-4a88-e4c9-3525f55b3680"
      },
      "execution_count": null,
      "outputs": [
        {
          "output_type": "execute_result",
          "data": {
            "text/plain": [
              "    country  No of guests\n",
              "0       PRT         17573\n",
              "1       GBR          8440\n",
              "2       FRA          7091\n",
              "3       ESP          5382\n",
              "4       DEU          4332\n",
              "..      ...           ...\n",
              "161     ZMB             1\n",
              "162     SYC             1\n",
              "163     MDG             1\n",
              "164     SMR             1\n",
              "165     FRO             1\n",
              "\n",
              "[166 rows x 2 columns]"
            ],
            "text/html": [
              "\n",
              "  <div id=\"df-07e4a4d8-6725-4e61-8e9c-915ec92851e0\">\n",
              "    <div class=\"colab-df-container\">\n",
              "      <div>\n",
              "<style scoped>\n",
              "    .dataframe tbody tr th:only-of-type {\n",
              "        vertical-align: middle;\n",
              "    }\n",
              "\n",
              "    .dataframe tbody tr th {\n",
              "        vertical-align: top;\n",
              "    }\n",
              "\n",
              "    .dataframe thead th {\n",
              "        text-align: right;\n",
              "    }\n",
              "</style>\n",
              "<table border=\"1\" class=\"dataframe\">\n",
              "  <thead>\n",
              "    <tr style=\"text-align: right;\">\n",
              "      <th></th>\n",
              "      <th>country</th>\n",
              "      <th>No of guests</th>\n",
              "    </tr>\n",
              "  </thead>\n",
              "  <tbody>\n",
              "    <tr>\n",
              "      <th>0</th>\n",
              "      <td>PRT</td>\n",
              "      <td>17573</td>\n",
              "    </tr>\n",
              "    <tr>\n",
              "      <th>1</th>\n",
              "      <td>GBR</td>\n",
              "      <td>8440</td>\n",
              "    </tr>\n",
              "    <tr>\n",
              "      <th>2</th>\n",
              "      <td>FRA</td>\n",
              "      <td>7091</td>\n",
              "    </tr>\n",
              "    <tr>\n",
              "      <th>3</th>\n",
              "      <td>ESP</td>\n",
              "      <td>5382</td>\n",
              "    </tr>\n",
              "    <tr>\n",
              "      <th>4</th>\n",
              "      <td>DEU</td>\n",
              "      <td>4332</td>\n",
              "    </tr>\n",
              "    <tr>\n",
              "      <th>...</th>\n",
              "      <td>...</td>\n",
              "      <td>...</td>\n",
              "    </tr>\n",
              "    <tr>\n",
              "      <th>161</th>\n",
              "      <td>ZMB</td>\n",
              "      <td>1</td>\n",
              "    </tr>\n",
              "    <tr>\n",
              "      <th>162</th>\n",
              "      <td>SYC</td>\n",
              "      <td>1</td>\n",
              "    </tr>\n",
              "    <tr>\n",
              "      <th>163</th>\n",
              "      <td>MDG</td>\n",
              "      <td>1</td>\n",
              "    </tr>\n",
              "    <tr>\n",
              "      <th>164</th>\n",
              "      <td>SMR</td>\n",
              "      <td>1</td>\n",
              "    </tr>\n",
              "    <tr>\n",
              "      <th>165</th>\n",
              "      <td>FRO</td>\n",
              "      <td>1</td>\n",
              "    </tr>\n",
              "  </tbody>\n",
              "</table>\n",
              "<p>166 rows × 2 columns</p>\n",
              "</div>\n",
              "      <button class=\"colab-df-convert\" onclick=\"convertToInteractive('df-07e4a4d8-6725-4e61-8e9c-915ec92851e0')\"\n",
              "              title=\"Convert this dataframe to an interactive table.\"\n",
              "              style=\"display:none;\">\n",
              "        \n",
              "  <svg xmlns=\"http://www.w3.org/2000/svg\" height=\"24px\"viewBox=\"0 0 24 24\"\n",
              "       width=\"24px\">\n",
              "    <path d=\"M0 0h24v24H0V0z\" fill=\"none\"/>\n",
              "    <path d=\"M18.56 5.44l.94 2.06.94-2.06 2.06-.94-2.06-.94-.94-2.06-.94 2.06-2.06.94zm-11 1L8.5 8.5l.94-2.06 2.06-.94-2.06-.94L8.5 2.5l-.94 2.06-2.06.94zm10 10l.94 2.06.94-2.06 2.06-.94-2.06-.94-.94-2.06-.94 2.06-2.06.94z\"/><path d=\"M17.41 7.96l-1.37-1.37c-.4-.4-.92-.59-1.43-.59-.52 0-1.04.2-1.43.59L10.3 9.45l-7.72 7.72c-.78.78-.78 2.05 0 2.83L4 21.41c.39.39.9.59 1.41.59.51 0 1.02-.2 1.41-.59l7.78-7.78 2.81-2.81c.8-.78.8-2.07 0-2.86zM5.41 20L4 18.59l7.72-7.72 1.47 1.35L5.41 20z\"/>\n",
              "  </svg>\n",
              "      </button>\n",
              "      \n",
              "  <style>\n",
              "    .colab-df-container {\n",
              "      display:flex;\n",
              "      flex-wrap:wrap;\n",
              "      gap: 12px;\n",
              "    }\n",
              "\n",
              "    .colab-df-convert {\n",
              "      background-color: #E8F0FE;\n",
              "      border: none;\n",
              "      border-radius: 50%;\n",
              "      cursor: pointer;\n",
              "      display: none;\n",
              "      fill: #1967D2;\n",
              "      height: 32px;\n",
              "      padding: 0 0 0 0;\n",
              "      width: 32px;\n",
              "    }\n",
              "\n",
              "    .colab-df-convert:hover {\n",
              "      background-color: #E2EBFA;\n",
              "      box-shadow: 0px 1px 2px rgba(60, 64, 67, 0.3), 0px 1px 3px 1px rgba(60, 64, 67, 0.15);\n",
              "      fill: #174EA6;\n",
              "    }\n",
              "\n",
              "    [theme=dark] .colab-df-convert {\n",
              "      background-color: #3B4455;\n",
              "      fill: #D2E3FC;\n",
              "    }\n",
              "\n",
              "    [theme=dark] .colab-df-convert:hover {\n",
              "      background-color: #434B5C;\n",
              "      box-shadow: 0px 1px 3px 1px rgba(0, 0, 0, 0.15);\n",
              "      filter: drop-shadow(0px 1px 2px rgba(0, 0, 0, 0.3));\n",
              "      fill: #FFFFFF;\n",
              "    }\n",
              "  </style>\n",
              "\n",
              "      <script>\n",
              "        const buttonEl =\n",
              "          document.querySelector('#df-07e4a4d8-6725-4e61-8e9c-915ec92851e0 button.colab-df-convert');\n",
              "        buttonEl.style.display =\n",
              "          google.colab.kernel.accessAllowed ? 'block' : 'none';\n",
              "\n",
              "        async function convertToInteractive(key) {\n",
              "          const element = document.querySelector('#df-07e4a4d8-6725-4e61-8e9c-915ec92851e0');\n",
              "          const dataTable =\n",
              "            await google.colab.kernel.invokeFunction('convertToInteractive',\n",
              "                                                     [key], {});\n",
              "          if (!dataTable) return;\n",
              "\n",
              "          const docLinkHtml = 'Like what you see? Visit the ' +\n",
              "            '<a target=\"_blank\" href=https://colab.research.google.com/notebooks/data_table.ipynb>data table notebook</a>'\n",
              "            + ' to learn more about interactive tables.';\n",
              "          element.innerHTML = '';\n",
              "          dataTable['output_type'] = 'display_data';\n",
              "          await google.colab.output.renderOutput(dataTable, element);\n",
              "          const docLink = document.createElement('div');\n",
              "          docLink.innerHTML = docLinkHtml;\n",
              "          element.appendChild(docLink);\n",
              "        }\n",
              "      </script>\n",
              "    </div>\n",
              "  </div>\n",
              "  "
            ]
          },
          "metadata": {},
          "execution_count": 54
        }
      ]
    },
    {
      "cell_type": "code",
      "source": [
        "grouped_by_country = df_1.groupby('country')\n",
        "d1 = pd.DataFrame(grouped_by_country.size()).reset_index().rename(columns = {0:'Count'}).sort_values('Count', ascending = False)[:10]\n",
        "sns.barplot(x = d1['country'], y  = d1['Count'])\n",
        "plt.title('No. of people from different countries')\n",
        "plt.show()"
      ],
      "metadata": {
        "colab": {
          "base_uri": "https://localhost:8080/",
          "height": 513
        },
        "id": "KzX_TmTNC4UQ",
        "outputId": "38eb7032-549e-4e2b-c040-bcb31e46edc1"
      },
      "execution_count": null,
      "outputs": [
        {
          "output_type": "display_data",
          "data": {
            "text/plain": [
              "<Figure size 576x576 with 1 Axes>"
            ],
            "image/png": "[encoded data removed]"
          },
          "metadata": {
            "needs_background": "light"
          }
        }
      ]
    },
    {
      "cell_type": "markdown",
      "source": [
        "Most guests are from Portugal and other Europian contries."
      ],
      "metadata": {
        "id": "T_5oLD8CDJly"
      }
    },
    {
      "cell_type": "markdown",
      "source": [
        "# **Conclusion**"
      ],
      "metadata": {
        "id": "emPVLLYeiRSD"
      }
    },
    {
      "cell_type": "markdown",
      "source": [
        "\n",
        "\n",
        "*   Most demanded room type is A, but better adr rooms are of type H, G and C also. Hotels should increase the no. of room types A, G and H to maximise revenue.\n",
        "\n",
        "*   Most common stay length is less than 4 days and generally people prefer City hotel for short stay, but for long stays, Resort Hotel is preferred.\n",
        "\n",
        "*   Both hotels have few repeat customers which shows that the customer satisfcation is not upto the mark.\n",
        "\n",
        "*   Resort Hotel has more revenue generating deals by direct and TA/TO channel. It needs to increase outreach on GDS channel as it would help in increasing revenue.\n",
        "\n",
        "*   Waiting period as well as lead time do not have much effect on cancellation of bookings.  \n"
      ],
      "metadata": {
        "id": "c0XiC4ucocuE"
      }
    },
    {
      "cell_type": "code",
      "source": [
        ""
      ],
      "metadata": {
        "id": "8DfEzqPnvrT-"
      },
      "execution_count": null,
      "outputs": []
    }
  ]
}